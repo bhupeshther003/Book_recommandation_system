{
  "cells": [
    {
      "cell_type": "markdown",
      "metadata": {
        "id": "9UqG2X6A7wPd"
      },
      "source": [
        "# **Book Recomandation **"
      ]
    },
    {
      "cell_type": "code",
      "execution_count": 1,
      "metadata": {
        "id": "PRGhP9nT8FQj"
      },
      "outputs": [],
      "source": [
        "import warnings\n",
        "warnings.filterwarnings('ignore')"
      ]
    },
    {
      "cell_type": "code",
      "execution_count": 2,
      "metadata": {},
      "outputs": [
        {
          "name": "stdout",
          "output_type": "stream",
          "text": [
            "Collecting seaborn\n",
            "  Using cached seaborn-0.13.0-py3-none-any.whl.metadata (5.3 kB)\n",
            "Collecting matplotlib\n",
            "  Downloading matplotlib-3.8.2-cp310-cp310-win_amd64.whl.metadata (5.9 kB)\n",
            "Requirement already satisfied: numpy!=1.24.0,>=1.20 in c:\\users\\shiva\\videos\\movies_r_s\\.venv\\lib\\site-packages (from seaborn) (1.26.0)\n",
            "Requirement already satisfied: pandas>=1.2 in c:\\users\\shiva\\videos\\movies_r_s\\.venv\\lib\\site-packages (from seaborn) (2.1.1)\n",
            "Collecting contourpy>=1.0.1 (from matplotlib)\n",
            "  Downloading contourpy-1.2.0-cp310-cp310-win_amd64.whl.metadata (5.8 kB)\n",
            "Collecting cycler>=0.10 (from matplotlib)\n",
            "  Using cached cycler-0.12.1-py3-none-any.whl.metadata (3.8 kB)\n",
            "Collecting fonttools>=4.22.0 (from matplotlib)\n",
            "  Downloading fonttools-4.45.0-cp310-cp310-win_amd64.whl.metadata (158 kB)\n",
            "     ---------------------------------------- 0.0/158.1 kB ? eta -:--:--\n",
            "     ---------- ---------------------------- 41.0/158.1 kB 1.9 MB/s eta 0:00:01\n",
            "     ------------------------------------ - 153.6/158.1 kB 1.8 MB/s eta 0:00:01\n",
            "     -------------------------------------- 158.1/158.1 kB 1.6 MB/s eta 0:00:00\n",
            "Collecting kiwisolver>=1.3.1 (from matplotlib)\n",
            "  Downloading kiwisolver-1.4.5-cp310-cp310-win_amd64.whl.metadata (6.5 kB)\n",
            "Requirement already satisfied: packaging>=20.0 in c:\\users\\shiva\\videos\\movies_r_s\\.venv\\lib\\site-packages (from matplotlib) (23.2)\n",
            "Collecting pillow>=8 (from matplotlib)\n",
            "  Downloading Pillow-10.1.0-cp310-cp310-win_amd64.whl.metadata (9.6 kB)\n",
            "Collecting pyparsing>=2.3.1 (from matplotlib)\n",
            "  Using cached pyparsing-3.1.1-py3-none-any.whl.metadata (5.1 kB)\n",
            "Requirement already satisfied: python-dateutil>=2.7 in c:\\users\\shiva\\videos\\movies_r_s\\.venv\\lib\\site-packages (from matplotlib) (2.8.2)\n",
            "Requirement already satisfied: pytz>=2020.1 in c:\\users\\shiva\\videos\\movies_r_s\\.venv\\lib\\site-packages (from pandas>=1.2->seaborn) (2023.3.post1)\n",
            "Requirement already satisfied: tzdata>=2022.1 in c:\\users\\shiva\\videos\\movies_r_s\\.venv\\lib\\site-packages (from pandas>=1.2->seaborn) (2023.3)\n",
            "Requirement already satisfied: six>=1.5 in c:\\users\\shiva\\videos\\movies_r_s\\.venv\\lib\\site-packages (from python-dateutil>=2.7->matplotlib) (1.16.0)\n",
            "Using cached seaborn-0.13.0-py3-none-any.whl (294 kB)\n",
            "Downloading matplotlib-3.8.2-cp310-cp310-win_amd64.whl (7.6 MB)\n",
            "   ---------------------------------------- 0.0/7.6 MB ? eta -:--:--\n",
            "   ---------------------------------------- 0.1/7.6 MB 5.1 MB/s eta 0:00:02\n",
            "   - -------------------------------------- 0.2/7.6 MB 2.5 MB/s eta 0:00:04\n",
            "   - -------------------------------------- 0.3/7.6 MB 2.6 MB/s eta 0:00:03\n",
            "   -- ------------------------------------- 0.5/7.6 MB 2.6 MB/s eta 0:00:03\n",
            "   -- ------------------------------------- 0.5/7.6 MB 2.4 MB/s eta 0:00:03\n",
            "   --- ------------------------------------ 0.6/7.6 MB 2.3 MB/s eta 0:00:04\n",
            "   --- ------------------------------------ 0.7/7.6 MB 2.2 MB/s eta 0:00:04\n",
            "   --- ------------------------------------ 0.7/7.6 MB 2.1 MB/s eta 0:00:04\n",
            "   --- ------------------------------------ 0.8/7.6 MB 1.8 MB/s eta 0:00:04\n",
            "   ---- ----------------------------------- 0.8/7.6 MB 1.8 MB/s eta 0:00:04\n",
            "   ---- ----------------------------------- 0.8/7.6 MB 1.8 MB/s eta 0:00:04\n",
            "   ---- ----------------------------------- 0.9/7.6 MB 1.7 MB/s eta 0:00:04\n",
            "   ----- ---------------------------------- 1.0/7.6 MB 1.7 MB/s eta 0:00:04\n",
            "   ----- ---------------------------------- 1.0/7.6 MB 1.6 MB/s eta 0:00:05\n",
            "   ----- ---------------------------------- 1.0/7.6 MB 1.6 MB/s eta 0:00:05\n",
            "   ----- ---------------------------------- 1.1/7.6 MB 1.5 MB/s eta 0:00:05\n",
            "   ------ --------------------------------- 1.2/7.6 MB 1.5 MB/s eta 0:00:05\n",
            "   ------ --------------------------------- 1.3/7.6 MB 1.6 MB/s eta 0:00:05\n",
            "   ------- -------------------------------- 1.4/7.6 MB 1.5 MB/s eta 0:00:05\n",
            "   ------- -------------------------------- 1.4/7.6 MB 1.5 MB/s eta 0:00:05\n",
            "   ------- -------------------------------- 1.4/7.6 MB 1.5 MB/s eta 0:00:05\n",
            "   ------- -------------------------------- 1.5/7.6 MB 1.4 MB/s eta 0:00:05\n",
            "   ------- -------------------------------- 1.5/7.6 MB 1.4 MB/s eta 0:00:05\n",
            "   -------- ------------------------------- 1.7/7.6 MB 1.5 MB/s eta 0:00:05\n",
            "   --------- ------------------------------ 1.8/7.6 MB 1.5 MB/s eta 0:00:04\n",
            "   --------- ------------------------------ 1.9/7.6 MB 1.6 MB/s eta 0:00:04\n",
            "   ---------- ----------------------------- 2.0/7.6 MB 1.6 MB/s eta 0:00:04\n",
            "   ----------- ---------------------------- 2.1/7.6 MB 1.7 MB/s eta 0:00:04\n",
            "   ----------- ---------------------------- 2.3/7.6 MB 1.7 MB/s eta 0:00:04\n",
            "   ------------ --------------------------- 2.3/7.6 MB 1.7 MB/s eta 0:00:04\n",
            "   ------------ --------------------------- 2.4/7.6 MB 1.7 MB/s eta 0:00:04\n",
            "   ------------- -------------------------- 2.5/7.6 MB 1.7 MB/s eta 0:00:04\n",
            "   ------------- -------------------------- 2.6/7.6 MB 1.7 MB/s eta 0:00:03\n",
            "   ------------- -------------------------- 2.6/7.6 MB 1.7 MB/s eta 0:00:03\n",
            "   ------------- -------------------------- 2.6/7.6 MB 1.7 MB/s eta 0:00:03\n",
            "   -------------- ------------------------- 2.7/7.6 MB 1.6 MB/s eta 0:00:04\n",
            "   -------------- ------------------------- 2.8/7.6 MB 1.6 MB/s eta 0:00:03\n",
            "   --------------- ------------------------ 2.9/7.6 MB 1.7 MB/s eta 0:00:03\n",
            "   --------------- ------------------------ 2.9/7.6 MB 1.6 MB/s eta 0:00:03\n",
            "   --------------- ------------------------ 3.0/7.6 MB 1.6 MB/s eta 0:00:03\n",
            "   --------------- ------------------------ 3.0/7.6 MB 1.6 MB/s eta 0:00:03\n",
            "   ---------------- ----------------------- 3.1/7.6 MB 1.6 MB/s eta 0:00:03\n",
            "   ---------------- ----------------------- 3.1/7.6 MB 1.6 MB/s eta 0:00:03\n",
            "   ---------------- ----------------------- 3.2/7.6 MB 1.5 MB/s eta 0:00:03\n",
            "   ---------------- ----------------------- 3.2/7.6 MB 1.5 MB/s eta 0:00:03\n",
            "   ----------------- ---------------------- 3.3/7.6 MB 1.5 MB/s eta 0:00:03\n",
            "   ------------------ --------------------- 3.5/7.6 MB 1.6 MB/s eta 0:00:03\n",
            "   ------------------ --------------------- 3.6/7.6 MB 1.6 MB/s eta 0:00:03\n",
            "   ------------------- -------------------- 3.7/7.6 MB 1.6 MB/s eta 0:00:03\n",
            "   ------------------- -------------------- 3.7/7.6 MB 1.6 MB/s eta 0:00:03\n",
            "   ------------------- -------------------- 3.8/7.6 MB 1.6 MB/s eta 0:00:03\n",
            "   -------------------- ------------------- 3.9/7.6 MB 1.6 MB/s eta 0:00:03\n",
            "   --------------------- ------------------ 4.0/7.6 MB 1.6 MB/s eta 0:00:03\n",
            "   --------------------- ------------------ 4.2/7.6 MB 1.7 MB/s eta 0:00:03\n",
            "   ---------------------- ----------------- 4.3/7.6 MB 1.7 MB/s eta 0:00:02\n",
            "   ---------------------- ----------------- 4.4/7.6 MB 1.7 MB/s eta 0:00:02\n",
            "   ----------------------- ---------------- 4.5/7.6 MB 1.7 MB/s eta 0:00:02\n",
            "   ------------------------ --------------- 4.6/7.6 MB 1.7 MB/s eta 0:00:02\n",
            "   ------------------------ --------------- 4.7/7.6 MB 1.7 MB/s eta 0:00:02\n",
            "   ------------------------- -------------- 4.9/7.6 MB 1.7 MB/s eta 0:00:02\n",
            "   -------------------------- ------------- 5.0/7.6 MB 1.8 MB/s eta 0:00:02\n",
            "   -------------------------- ------------- 5.0/7.6 MB 1.8 MB/s eta 0:00:02\n",
            "   -------------------------- ------------- 5.1/7.6 MB 1.7 MB/s eta 0:00:02\n",
            "   -------------------------- ------------- 5.1/7.6 MB 1.7 MB/s eta 0:00:02\n",
            "   --------------------------- ------------ 5.3/7.6 MB 1.7 MB/s eta 0:00:02\n",
            "   ---------------------------- ----------- 5.4/7.6 MB 1.8 MB/s eta 0:00:02\n",
            "   ---------------------------- ----------- 5.5/7.6 MB 1.8 MB/s eta 0:00:02\n",
            "   ----------------------------- ---------- 5.6/7.6 MB 1.8 MB/s eta 0:00:02\n",
            "   ----------------------------- ---------- 5.6/7.6 MB 1.7 MB/s eta 0:00:02\n",
            "   ------------------------------ --------- 5.7/7.6 MB 1.7 MB/s eta 0:00:02\n",
            "   ------------------------------ --------- 5.9/7.6 MB 1.8 MB/s eta 0:00:02\n",
            "   ------------------------------- -------- 5.9/7.6 MB 1.8 MB/s eta 0:00:01\n",
            "   ------------------------------- -------- 6.0/7.6 MB 1.8 MB/s eta 0:00:01\n",
            "   ------------------------------- -------- 6.0/7.6 MB 1.7 MB/s eta 0:00:01\n",
            "   ------------------------------- -------- 6.1/7.6 MB 1.7 MB/s eta 0:00:01\n",
            "   -------------------------------- ------- 6.2/7.6 MB 1.7 MB/s eta 0:00:01\n",
            "   -------------------------------- ------- 6.2/7.6 MB 1.7 MB/s eta 0:00:01\n",
            "   -------------------------------- ------- 6.3/7.6 MB 1.7 MB/s eta 0:00:01\n",
            "   --------------------------------- ------ 6.3/7.6 MB 1.7 MB/s eta 0:00:01\n",
            "   --------------------------------- ------ 6.4/7.6 MB 1.7 MB/s eta 0:00:01\n",
            "   --------------------------------- ------ 6.4/7.6 MB 1.7 MB/s eta 0:00:01\n",
            "   --------------------------------- ------ 6.5/7.6 MB 1.7 MB/s eta 0:00:01\n",
            "   ---------------------------------- ----- 6.6/7.6 MB 1.7 MB/s eta 0:00:01\n",
            "   ----------------------------------- ---- 6.8/7.6 MB 1.7 MB/s eta 0:00:01\n",
            "   ------------------------------------ --- 7.0/7.6 MB 1.7 MB/s eta 0:00:01\n",
            "   ------------------------------------- -- 7.1/7.6 MB 1.8 MB/s eta 0:00:01\n",
            "   ------------------------------------- -- 7.2/7.6 MB 1.8 MB/s eta 0:00:01\n",
            "   -------------------------------------- - 7.3/7.6 MB 1.8 MB/s eta 0:00:01\n",
            "   -------------------------------------- - 7.4/7.6 MB 1.8 MB/s eta 0:00:01\n",
            "   ---------------------------------------  7.5/7.6 MB 1.8 MB/s eta 0:00:01\n",
            "   ---------------------------------------  7.6/7.6 MB 1.8 MB/s eta 0:00:01\n",
            "   ---------------------------------------- 7.6/7.6 MB 1.8 MB/s eta 0:00:00\n",
            "Downloading contourpy-1.2.0-cp310-cp310-win_amd64.whl (186 kB)\n",
            "   ---------------------------------------- 0.0/186.7 kB ? eta -:--:--\n",
            "   ----------------------------------- ---- 163.8/186.7 kB 5.0 MB/s eta 0:00:01\n",
            "   ---------------------------------------- 186.7/186.7 kB 2.8 MB/s eta 0:00:00\n",
            "Using cached cycler-0.12.1-py3-none-any.whl (8.3 kB)\n",
            "Downloading fonttools-4.45.0-cp310-cp310-win_amd64.whl (2.2 MB)\n",
            "   ---------------------------------------- 0.0/2.2 MB ? eta -:--:--\n",
            "   -- ------------------------------------- 0.1/2.2 MB 3.6 MB/s eta 0:00:01\n",
            "   ---- ----------------------------------- 0.2/2.2 MB 2.5 MB/s eta 0:00:01\n",
            "   ------ --------------------------------- 0.4/2.2 MB 2.8 MB/s eta 0:00:01\n",
            "   --------- ------------------------------ 0.5/2.2 MB 3.0 MB/s eta 0:00:01\n",
            "   ------------ --------------------------- 0.7/2.2 MB 3.0 MB/s eta 0:00:01\n",
            "   ------------- -------------------------- 0.7/2.2 MB 2.8 MB/s eta 0:00:01\n",
            "   -------------- ------------------------- 0.8/2.2 MB 2.6 MB/s eta 0:00:01\n",
            "   ---------------- ----------------------- 0.9/2.2 MB 2.4 MB/s eta 0:00:01\n",
            "   ------------------ --------------------- 1.0/2.2 MB 2.4 MB/s eta 0:00:01\n",
            "   --------------------- ------------------ 1.1/2.2 MB 2.4 MB/s eta 0:00:01\n",
            "   ---------------------- ----------------- 1.2/2.2 MB 2.4 MB/s eta 0:00:01\n",
            "   ---------------------- ----------------- 1.2/2.2 MB 2.3 MB/s eta 0:00:01\n",
            "   ---------------------- ----------------- 1.2/2.2 MB 2.3 MB/s eta 0:00:01\n",
            "   ----------------------- ---------------- 1.3/2.2 MB 2.0 MB/s eta 0:00:01\n",
            "   -------------------------- ------------- 1.4/2.2 MB 2.0 MB/s eta 0:00:01\n",
            "   -------------------------- ------------- 1.5/2.2 MB 2.0 MB/s eta 0:00:01\n",
            "   ----------------------------- ---------- 1.6/2.2 MB 2.0 MB/s eta 0:00:01\n",
            "   ------------------------------ --------- 1.6/2.2 MB 2.0 MB/s eta 0:00:01\n",
            "   -------------------------------- ------- 1.8/2.2 MB 2.0 MB/s eta 0:00:01\n",
            "   ---------------------------------- ----- 1.9/2.2 MB 2.0 MB/s eta 0:00:01\n",
            "   ------------------------------------ --- 2.0/2.2 MB 2.0 MB/s eta 0:00:01\n",
            "   ---------------------------------------  2.1/2.2 MB 2.0 MB/s eta 0:00:01\n",
            "   ---------------------------------------  2.2/2.2 MB 2.0 MB/s eta 0:00:01\n",
            "   ---------------------------------------- 2.2/2.2 MB 2.0 MB/s eta 0:00:00\n",
            "Downloading kiwisolver-1.4.5-cp310-cp310-win_amd64.whl (56 kB)\n",
            "   ---------------------------------------- 0.0/56.1 kB ? eta -:--:--\n",
            "   --------------------- ------------------ 30.7/56.1 kB 660.6 kB/s eta 0:00:01\n",
            "   ---------------------------------------- 56.1/56.1 kB 739.6 kB/s eta 0:00:00\n",
            "Downloading Pillow-10.1.0-cp310-cp310-win_amd64.whl (2.6 MB)\n",
            "   ---------------------------------------- 0.0/2.6 MB ? eta -:--:--\n",
            "    --------------------------------------- 0.0/2.6 MB 653.6 kB/s eta 0:00:04\n",
            "   - -------------------------------------- 0.1/2.6 MB 762.6 kB/s eta 0:00:04\n",
            "   - -------------------------------------- 0.1/2.6 MB 819.2 kB/s eta 0:00:04\n",
            "   -- ------------------------------------- 0.2/2.6 MB 893.0 kB/s eta 0:00:03\n",
            "   --- ------------------------------------ 0.3/2.6 MB 1.0 MB/s eta 0:00:03\n",
            "   ----- ---------------------------------- 0.3/2.6 MB 1.2 MB/s eta 0:00:02\n",
            "   ----- ---------------------------------- 0.4/2.6 MB 1.2 MB/s eta 0:00:02\n",
            "   ------ --------------------------------- 0.5/2.6 MB 1.2 MB/s eta 0:00:02\n",
            "   ------- -------------------------------- 0.5/2.6 MB 1.2 MB/s eta 0:00:02\n",
            "   -------- ------------------------------- 0.5/2.6 MB 1.1 MB/s eta 0:00:02\n",
            "   -------- ------------------------------- 0.6/2.6 MB 1.1 MB/s eta 0:00:02\n",
            "   ---------- ----------------------------- 0.7/2.6 MB 1.2 MB/s eta 0:00:02\n",
            "   ---------- ----------------------------- 0.7/2.6 MB 1.2 MB/s eta 0:00:02\n",
            "   ----------- ---------------------------- 0.7/2.6 MB 1.2 MB/s eta 0:00:02\n",
            "   ------------ --------------------------- 0.8/2.6 MB 1.1 MB/s eta 0:00:02\n",
            "   ------------ --------------------------- 0.8/2.6 MB 1.1 MB/s eta 0:00:02\n",
            "   ------------- -------------------------- 0.9/2.6 MB 1.1 MB/s eta 0:00:02\n",
            "   -------------- ------------------------- 1.0/2.6 MB 1.1 MB/s eta 0:00:02\n",
            "   --------------- ------------------------ 1.0/2.6 MB 1.1 MB/s eta 0:00:02\n",
            "   ---------------- ----------------------- 1.1/2.6 MB 1.2 MB/s eta 0:00:02\n",
            "   ----------------- ---------------------- 1.2/2.6 MB 1.2 MB/s eta 0:00:02\n",
            "   ------------------- -------------------- 1.2/2.6 MB 1.2 MB/s eta 0:00:02\n",
            "   -------------------- ------------------- 1.3/2.6 MB 1.2 MB/s eta 0:00:02\n",
            "   -------------------- ------------------- 1.3/2.6 MB 1.2 MB/s eta 0:00:02\n",
            "   --------------------- ------------------ 1.4/2.6 MB 1.2 MB/s eta 0:00:02\n",
            "   --------------------- ------------------ 1.4/2.6 MB 1.2 MB/s eta 0:00:02\n",
            "   --------------------- ------------------ 1.4/2.6 MB 1.2 MB/s eta 0:00:02\n",
            "   ---------------------- ----------------- 1.5/2.6 MB 1.1 MB/s eta 0:00:01\n",
            "   ----------------------- ---------------- 1.5/2.6 MB 1.1 MB/s eta 0:00:01\n",
            "   ----------------------- ---------------- 1.5/2.6 MB 1.1 MB/s eta 0:00:01\n",
            "   ------------------------ --------------- 1.6/2.6 MB 1.1 MB/s eta 0:00:01\n",
            "   ------------------------ --------------- 1.6/2.6 MB 1.1 MB/s eta 0:00:01\n",
            "   ------------------------ --------------- 1.6/2.6 MB 1.1 MB/s eta 0:00:01\n",
            "   ------------------------- -------------- 1.7/2.6 MB 1.0 MB/s eta 0:00:01\n",
            "   ------------------------- -------------- 1.7/2.6 MB 1.0 MB/s eta 0:00:01\n",
            "   -------------------------- ------------- 1.7/2.6 MB 1.0 MB/s eta 0:00:01\n",
            "   -------------------------- ------------- 1.7/2.6 MB 1.0 MB/s eta 0:00:01\n",
            "   -------------------------- ------------- 1.7/2.6 MB 997.4 kB/s eta 0:00:01\n",
            "   --------------------------- ------------ 1.8/2.6 MB 971.5 kB/s eta 0:00:01\n",
            "   --------------------------- ------------ 1.8/2.6 MB 966.2 kB/s eta 0:00:01\n",
            "   --------------------------- ------------ 1.8/2.6 MB 950.9 kB/s eta 0:00:01\n",
            "   ---------------------------- ----------- 1.9/2.6 MB 954.3 kB/s eta 0:00:01\n",
            "   ----------------------------- ---------- 1.9/2.6 MB 947.2 kB/s eta 0:00:01\n",
            "   ----------------------------- ---------- 1.9/2.6 MB 944.8 kB/s eta 0:00:01\n",
            "   ----------------------------- ---------- 1.9/2.6 MB 944.8 kB/s eta 0:00:01\n",
            "   ----------------------------- ---------- 1.9/2.6 MB 944.8 kB/s eta 0:00:01\n",
            "   ----------------------------- ---------- 1.9/2.6 MB 944.8 kB/s eta 0:00:01\n",
            "   ----------------------------- ---------- 1.9/2.6 MB 873.9 kB/s eta 0:00:01\n",
            "   ----------------------------- ---------- 2.0/2.6 MB 858.6 kB/s eta 0:00:01\n",
            "   ------------------------------ --------- 2.0/2.6 MB 857.7 kB/s eta 0:00:01\n",
            "   ------------------------------- -------- 2.1/2.6 MB 860.8 kB/s eta 0:00:01\n",
            "   --------------------------------- ------ 2.2/2.6 MB 887.9 kB/s eta 0:00:01\n",
            "   ---------------------------------- ----- 2.2/2.6 MB 890.1 kB/s eta 0:00:01\n",
            "   ---------------------------------- ----- 2.3/2.6 MB 891.3 kB/s eta 0:00:01\n",
            "   ----------------------------------- ---- 2.3/2.6 MB 887.0 kB/s eta 0:00:01\n",
            "   ----------------------------------- ---- 2.3/2.6 MB 881.6 kB/s eta 0:00:01\n",
            "   ------------------------------------ --- 2.4/2.6 MB 882.9 kB/s eta 0:00:01\n",
            "   ------------------------------------- -- 2.4/2.6 MB 890.3 kB/s eta 0:00:01\n",
            "   -------------------------------------- - 2.5/2.6 MB 904.8 kB/s eta 0:00:01\n",
            "   ---------------------------------------  2.6/2.6 MB 915.3 kB/s eta 0:00:01\n",
            "   ---------------------------------------  2.6/2.6 MB 910.9 kB/s eta 0:00:01\n",
            "   ---------------------------------------- 2.6/2.6 MB 903.9 kB/s eta 0:00:00\n",
            "Using cached pyparsing-3.1.1-py3-none-any.whl (103 kB)\n",
            "Installing collected packages: pyparsing, pillow, kiwisolver, fonttools, cycler, contourpy, matplotlib, seaborn\n",
            "Successfully installed contourpy-1.2.0 cycler-0.12.1 fonttools-4.45.0 kiwisolver-1.4.5 matplotlib-3.8.2 pillow-10.1.0 pyparsing-3.1.1 seaborn-0.13.0\n",
            "Note: you may need to restart the kernel to use updated packages.\n"
          ]
        }
      ],
      "source": [
        "pip install seaborn matplotlib"
      ]
    },
    {
      "cell_type": "code",
      "execution_count": 4,
      "metadata": {
        "id": "P5q8712Z-SIh"
      },
      "outputs": [],
      "source": [
        "import pickle\n",
        "import pandas as pd\n",
        "import numpy as np\n",
        "import seaborn as sns\n",
        "import matplotlib.pyplot as plt\n",
        "%matplotlib inline\n"
      ]
    },
    {
      "cell_type": "code",
      "execution_count": null,
      "metadata": {},
      "outputs": [],
      "source": [
        "\n"
      ]
    },
    {
      "cell_type": "code",
      "execution_count": 5,
      "metadata": {
        "colab": {
          "base_uri": "https://localhost:8080/",
          "height": 894
        },
        "id": "CmXAMdu--3sH",
        "outputId": "b180a7f1-e752-46f5-a459-201801f3ba75"
      },
      "outputs": [
        {
          "data": {
            "text/html": [
              "<div>\n",
              "<style scoped>\n",
              "    .dataframe tbody tr th:only-of-type {\n",
              "        vertical-align: middle;\n",
              "    }\n",
              "\n",
              "    .dataframe tbody tr th {\n",
              "        vertical-align: top;\n",
              "    }\n",
              "\n",
              "    .dataframe thead th {\n",
              "        text-align: right;\n",
              "    }\n",
              "</style>\n",
              "<table border=\"1\" class=\"dataframe\">\n",
              "  <thead>\n",
              "    <tr style=\"text-align: right;\">\n",
              "      <th></th>\n",
              "      <th>ISBN</th>\n",
              "      <th>Book-Title</th>\n",
              "      <th>Book-Author</th>\n",
              "      <th>Year-Of-Publication</th>\n",
              "      <th>Publisher</th>\n",
              "      <th>Image-URL-S</th>\n",
              "      <th>Image-URL-M</th>\n",
              "      <th>Image-URL-L</th>\n",
              "    </tr>\n",
              "  </thead>\n",
              "  <tbody>\n",
              "    <tr>\n",
              "      <th>0</th>\n",
              "      <td>0195153448</td>\n",
              "      <td>Classical Mythology</td>\n",
              "      <td>Mark P. O. Morford</td>\n",
              "      <td>2002</td>\n",
              "      <td>Oxford University Press</td>\n",
              "      <td>http://images.amazon.com/images/P/0195153448.0...</td>\n",
              "      <td>http://images.amazon.com/images/P/0195153448.0...</td>\n",
              "      <td>http://images.amazon.com/images/P/0195153448.0...</td>\n",
              "    </tr>\n",
              "    <tr>\n",
              "      <th>1</th>\n",
              "      <td>0002005018</td>\n",
              "      <td>Clara Callan</td>\n",
              "      <td>Richard Bruce Wright</td>\n",
              "      <td>2001</td>\n",
              "      <td>HarperFlamingo Canada</td>\n",
              "      <td>http://images.amazon.com/images/P/0002005018.0...</td>\n",
              "      <td>http://images.amazon.com/images/P/0002005018.0...</td>\n",
              "      <td>http://images.amazon.com/images/P/0002005018.0...</td>\n",
              "    </tr>\n",
              "    <tr>\n",
              "      <th>2</th>\n",
              "      <td>0060973129</td>\n",
              "      <td>Decision in Normandy</td>\n",
              "      <td>Carlo D'Este</td>\n",
              "      <td>1991</td>\n",
              "      <td>HarperPerennial</td>\n",
              "      <td>http://images.amazon.com/images/P/0060973129.0...</td>\n",
              "      <td>http://images.amazon.com/images/P/0060973129.0...</td>\n",
              "      <td>http://images.amazon.com/images/P/0060973129.0...</td>\n",
              "    </tr>\n",
              "    <tr>\n",
              "      <th>3</th>\n",
              "      <td>0374157065</td>\n",
              "      <td>Flu: The Story of the Great Influenza Pandemic...</td>\n",
              "      <td>Gina Bari Kolata</td>\n",
              "      <td>1999</td>\n",
              "      <td>Farrar Straus Giroux</td>\n",
              "      <td>http://images.amazon.com/images/P/0374157065.0...</td>\n",
              "      <td>http://images.amazon.com/images/P/0374157065.0...</td>\n",
              "      <td>http://images.amazon.com/images/P/0374157065.0...</td>\n",
              "    </tr>\n",
              "    <tr>\n",
              "      <th>4</th>\n",
              "      <td>0393045218</td>\n",
              "      <td>The Mummies of Urumchi</td>\n",
              "      <td>E. J. W. Barber</td>\n",
              "      <td>1999</td>\n",
              "      <td>W. W. Norton &amp;amp; Company</td>\n",
              "      <td>http://images.amazon.com/images/P/0393045218.0...</td>\n",
              "      <td>http://images.amazon.com/images/P/0393045218.0...</td>\n",
              "      <td>http://images.amazon.com/images/P/0393045218.0...</td>\n",
              "    </tr>\n",
              "    <tr>\n",
              "      <th>...</th>\n",
              "      <td>...</td>\n",
              "      <td>...</td>\n",
              "      <td>...</td>\n",
              "      <td>...</td>\n",
              "      <td>...</td>\n",
              "      <td>...</td>\n",
              "      <td>...</td>\n",
              "      <td>...</td>\n",
              "    </tr>\n",
              "    <tr>\n",
              "      <th>271355</th>\n",
              "      <td>0440400988</td>\n",
              "      <td>There's a Bat in Bunk Five</td>\n",
              "      <td>Paula Danziger</td>\n",
              "      <td>1988</td>\n",
              "      <td>Random House Childrens Pub (Mm)</td>\n",
              "      <td>http://images.amazon.com/images/P/0440400988.0...</td>\n",
              "      <td>http://images.amazon.com/images/P/0440400988.0...</td>\n",
              "      <td>http://images.amazon.com/images/P/0440400988.0...</td>\n",
              "    </tr>\n",
              "    <tr>\n",
              "      <th>271356</th>\n",
              "      <td>0525447644</td>\n",
              "      <td>From One to One Hundred</td>\n",
              "      <td>Teri Sloat</td>\n",
              "      <td>1991</td>\n",
              "      <td>Dutton Books</td>\n",
              "      <td>http://images.amazon.com/images/P/0525447644.0...</td>\n",
              "      <td>http://images.amazon.com/images/P/0525447644.0...</td>\n",
              "      <td>http://images.amazon.com/images/P/0525447644.0...</td>\n",
              "    </tr>\n",
              "    <tr>\n",
              "      <th>271357</th>\n",
              "      <td>006008667X</td>\n",
              "      <td>Lily Dale : The True Story of the Town that Ta...</td>\n",
              "      <td>Christine Wicker</td>\n",
              "      <td>2004</td>\n",
              "      <td>HarperSanFrancisco</td>\n",
              "      <td>http://images.amazon.com/images/P/006008667X.0...</td>\n",
              "      <td>http://images.amazon.com/images/P/006008667X.0...</td>\n",
              "      <td>http://images.amazon.com/images/P/006008667X.0...</td>\n",
              "    </tr>\n",
              "    <tr>\n",
              "      <th>271358</th>\n",
              "      <td>0192126040</td>\n",
              "      <td>Republic (World's Classics)</td>\n",
              "      <td>Plato</td>\n",
              "      <td>1996</td>\n",
              "      <td>Oxford University Press</td>\n",
              "      <td>http://images.amazon.com/images/P/0192126040.0...</td>\n",
              "      <td>http://images.amazon.com/images/P/0192126040.0...</td>\n",
              "      <td>http://images.amazon.com/images/P/0192126040.0...</td>\n",
              "    </tr>\n",
              "    <tr>\n",
              "      <th>271359</th>\n",
              "      <td>0767409752</td>\n",
              "      <td>A Guided Tour of Rene Descartes' Meditations o...</td>\n",
              "      <td>Christopher  Biffle</td>\n",
              "      <td>2000</td>\n",
              "      <td>McGraw-Hill Humanities/Social Sciences/Languages</td>\n",
              "      <td>http://images.amazon.com/images/P/0767409752.0...</td>\n",
              "      <td>http://images.amazon.com/images/P/0767409752.0...</td>\n",
              "      <td>http://images.amazon.com/images/P/0767409752.0...</td>\n",
              "    </tr>\n",
              "  </tbody>\n",
              "</table>\n",
              "<p>271360 rows × 8 columns</p>\n",
              "</div>"
            ],
            "text/plain": [
              "              ISBN                                         Book-Title  \\\n",
              "0       0195153448                                Classical Mythology   \n",
              "1       0002005018                                       Clara Callan   \n",
              "2       0060973129                               Decision in Normandy   \n",
              "3       0374157065  Flu: The Story of the Great Influenza Pandemic...   \n",
              "4       0393045218                             The Mummies of Urumchi   \n",
              "...            ...                                                ...   \n",
              "271355  0440400988                         There's a Bat in Bunk Five   \n",
              "271356  0525447644                            From One to One Hundred   \n",
              "271357  006008667X  Lily Dale : The True Story of the Town that Ta...   \n",
              "271358  0192126040                        Republic (World's Classics)   \n",
              "271359  0767409752  A Guided Tour of Rene Descartes' Meditations o...   \n",
              "\n",
              "                 Book-Author Year-Of-Publication  \\\n",
              "0         Mark P. O. Morford                2002   \n",
              "1       Richard Bruce Wright                2001   \n",
              "2               Carlo D'Este                1991   \n",
              "3           Gina Bari Kolata                1999   \n",
              "4            E. J. W. Barber                1999   \n",
              "...                      ...                 ...   \n",
              "271355        Paula Danziger                1988   \n",
              "271356            Teri Sloat                1991   \n",
              "271357      Christine Wicker                2004   \n",
              "271358                 Plato                1996   \n",
              "271359   Christopher  Biffle                2000   \n",
              "\n",
              "                                               Publisher  \\\n",
              "0                                Oxford University Press   \n",
              "1                                  HarperFlamingo Canada   \n",
              "2                                        HarperPerennial   \n",
              "3                                   Farrar Straus Giroux   \n",
              "4                             W. W. Norton &amp; Company   \n",
              "...                                                  ...   \n",
              "271355                   Random House Childrens Pub (Mm)   \n",
              "271356                                      Dutton Books   \n",
              "271357                                HarperSanFrancisco   \n",
              "271358                           Oxford University Press   \n",
              "271359  McGraw-Hill Humanities/Social Sciences/Languages   \n",
              "\n",
              "                                              Image-URL-S  \\\n",
              "0       http://images.amazon.com/images/P/0195153448.0...   \n",
              "1       http://images.amazon.com/images/P/0002005018.0...   \n",
              "2       http://images.amazon.com/images/P/0060973129.0...   \n",
              "3       http://images.amazon.com/images/P/0374157065.0...   \n",
              "4       http://images.amazon.com/images/P/0393045218.0...   \n",
              "...                                                   ...   \n",
              "271355  http://images.amazon.com/images/P/0440400988.0...   \n",
              "271356  http://images.amazon.com/images/P/0525447644.0...   \n",
              "271357  http://images.amazon.com/images/P/006008667X.0...   \n",
              "271358  http://images.amazon.com/images/P/0192126040.0...   \n",
              "271359  http://images.amazon.com/images/P/0767409752.0...   \n",
              "\n",
              "                                              Image-URL-M  \\\n",
              "0       http://images.amazon.com/images/P/0195153448.0...   \n",
              "1       http://images.amazon.com/images/P/0002005018.0...   \n",
              "2       http://images.amazon.com/images/P/0060973129.0...   \n",
              "3       http://images.amazon.com/images/P/0374157065.0...   \n",
              "4       http://images.amazon.com/images/P/0393045218.0...   \n",
              "...                                                   ...   \n",
              "271355  http://images.amazon.com/images/P/0440400988.0...   \n",
              "271356  http://images.amazon.com/images/P/0525447644.0...   \n",
              "271357  http://images.amazon.com/images/P/006008667X.0...   \n",
              "271358  http://images.amazon.com/images/P/0192126040.0...   \n",
              "271359  http://images.amazon.com/images/P/0767409752.0...   \n",
              "\n",
              "                                              Image-URL-L  \n",
              "0       http://images.amazon.com/images/P/0195153448.0...  \n",
              "1       http://images.amazon.com/images/P/0002005018.0...  \n",
              "2       http://images.amazon.com/images/P/0060973129.0...  \n",
              "3       http://images.amazon.com/images/P/0374157065.0...  \n",
              "4       http://images.amazon.com/images/P/0393045218.0...  \n",
              "...                                                   ...  \n",
              "271355  http://images.amazon.com/images/P/0440400988.0...  \n",
              "271356  http://images.amazon.com/images/P/0525447644.0...  \n",
              "271357  http://images.amazon.com/images/P/006008667X.0...  \n",
              "271358  http://images.amazon.com/images/P/0192126040.0...  \n",
              "271359  http://images.amazon.com/images/P/0767409752.0...  \n",
              "\n",
              "[271360 rows x 8 columns]"
            ]
          },
          "execution_count": 5,
          "metadata": {},
          "output_type": "execute_result"
        }
      ],
      "source": [
        "# importing dataset  and converting into the dataframe\n",
        "df_books=pd.read_csv('Books.csv')\n",
        "df_rating=pd.read_csv('Ratings.csv')\n",
        "df_users=pd.read_csv('Users.csv')\n",
        "df=pd.DataFrame(df_books)\n",
        "df=pd.DataFrame(df_rating)\n",
        "df=pd.DataFrame(df_users)\n",
        "df_books"
      ]
    },
    {
      "cell_type": "code",
      "execution_count": 6,
      "metadata": {
        "colab": {
          "base_uri": "https://localhost:8080/"
        },
        "id": "Zt0m7c5u_EBl",
        "outputId": "2c0a1047-cd73-44d9-c82f-2a085e70601b"
      },
      "outputs": [
        {
          "name": "stdout",
          "output_type": "stream",
          "text": [
            "Index(['ISBN', 'Book-Title', 'Book-Author', 'Year-Of-Publication', 'Publisher',\n",
            "       'Image-URL-S', 'Image-URL-M', 'Image-URL-L'],\n",
            "      dtype='object') \n",
            "\n",
            "Index(['User-ID', 'ISBN', 'Book-Rating'], dtype='object') \n",
            "\n",
            "Index(['User-ID', 'Location', 'Age'], dtype='object') \n",
            "\n"
          ]
        }
      ],
      "source": [
        "# print column names and\n",
        "print(df_books.columns,'\\n')\n",
        "print(df_rating.columns,'\\n')\n",
        "print(df_users.columns,'\\n')"
      ]
    },
    {
      "cell_type": "code",
      "execution_count": 7,
      "metadata": {
        "colab": {
          "base_uri": "https://localhost:8080/"
        },
        "id": "udVQfzA7_Eqc",
        "outputId": "a44a77c0-5a06-4107-898c-0305719f0d1e"
      },
      "outputs": [
        {
          "name": "stdout",
          "output_type": "stream",
          "text": [
            "Books dataset \n",
            " ISBN                   0\n",
            "Book-Title             0\n",
            "Book-Author            2\n",
            "Year-Of-Publication    0\n",
            "Publisher              2\n",
            "Image-URL-S            0\n",
            "Image-URL-M            0\n",
            "Image-URL-L            3\n",
            "dtype: int64 \n",
            "\n",
            "Rating dataset \n",
            " User-ID        0\n",
            "ISBN           0\n",
            "Book-Rating    0\n",
            "dtype: int64 \n",
            "\n",
            "Users dataset \n",
            " User-ID          0\n",
            "Location         0\n",
            "Age         110762\n",
            "dtype: int64 \n",
            "\n"
          ]
        }
      ],
      "source": [
        "print(\"Books dataset \\n\",df_books.isnull().sum(),'\\n')\n",
        "print(\"Rating dataset \\n\",df_rating.isnull().sum(),'\\n')\n",
        "print(\"Users dataset \\n\",df_users.isnull().sum(),'\\n')\n",
        "\n"
      ]
    },
    {
      "cell_type": "code",
      "execution_count": 8,
      "metadata": {
        "colab": {
          "base_uri": "https://localhost:8080/"
        },
        "id": "KRrwgLnc_LbV",
        "outputId": "dc0cf94a-951b-4c9f-c840-16549ff53a98"
      },
      "outputs": [
        {
          "name": "stdout",
          "output_type": "stream",
          "text": [
            "(271360, 8)\n",
            "(1149780, 3)\n",
            "(278858, 3)\n"
          ]
        }
      ],
      "source": [
        " # check out how many row and columns in the dataset\n",
        "\n",
        "print(df_books.shape)\n",
        "print(df_rating.shape)\n",
        "print(df_users.shape)\n"
      ]
    },
    {
      "cell_type": "code",
      "execution_count": 9,
      "metadata": {
        "colab": {
          "base_uri": "https://localhost:8080/"
        },
        "id": "aDg57aPf_cey",
        "outputId": "fb93c79b-6d5d-4887-da80-dd7a69f1d5de"
      },
      "outputs": [
        {
          "name": "stdout",
          "output_type": "stream",
          "text": [
            "duplicate values books in dataset is  0\n",
            "duplicate values rating in dataset is  0\n",
            "duplicate values users in dataset is  0\n"
          ]
        }
      ],
      "source": [
        "# checking duplicate values in the data set\n",
        "print(\"duplicate values books in dataset is \",df_books.duplicated().sum())\n",
        "print(\"duplicate values rating in dataset is \",df_rating.duplicated().sum())\n",
        "print(\"duplicate values users in dataset is \",df_users.duplicated().sum())"
      ]
    },
    {
      "cell_type": "code",
      "execution_count": 10,
      "metadata": {
        "colab": {
          "base_uri": "https://localhost:8080/"
        },
        "id": "lPw0_BamUwX9",
        "outputId": "c910b244-4ed2-4851-f3d5-ab95ac1d3439"
      },
      "outputs": [
        {
          "data": {
            "text/plain": [
              "Index(['User-ID', 'Location', 'Age'], dtype='object')"
            ]
          },
          "execution_count": 10,
          "metadata": {},
          "output_type": "execute_result"
        }
      ],
      "source": [
        "df.columns"
      ]
    },
    {
      "cell_type": "code",
      "execution_count": null,
      "metadata": {
        "id": "VAthIVFnV3qy"
      },
      "outputs": [],
      "source": []
    },
    {
      "cell_type": "markdown",
      "metadata": {
        "id": "5IIjXhqMk4wv"
      },
      "source": [
        "**try to show top 60 books bases on populars **"
      ]
    },
    {
      "cell_type": "code",
      "execution_count": 11,
      "metadata": {
        "colab": {
          "base_uri": "https://localhost:8080/",
          "height": 504
        },
        "id": "m7aB76falDOB",
        "outputId": "cc4ebad6-3136-45f2-eb33-3bbdeb1f5096"
      },
      "outputs": [
        {
          "data": {
            "text/html": [
              "<div>\n",
              "<style scoped>\n",
              "    .dataframe tbody tr th:only-of-type {\n",
              "        vertical-align: middle;\n",
              "    }\n",
              "\n",
              "    .dataframe tbody tr th {\n",
              "        vertical-align: top;\n",
              "    }\n",
              "\n",
              "    .dataframe thead th {\n",
              "        text-align: right;\n",
              "    }\n",
              "</style>\n",
              "<table border=\"1\" class=\"dataframe\">\n",
              "  <thead>\n",
              "    <tr style=\"text-align: right;\">\n",
              "      <th></th>\n",
              "      <th>User-ID</th>\n",
              "      <th>ISBN</th>\n",
              "      <th>Book-Rating</th>\n",
              "      <th>Book-Title</th>\n",
              "      <th>Book-Author</th>\n",
              "      <th>Year-Of-Publication</th>\n",
              "      <th>Publisher</th>\n",
              "      <th>Image-URL-S</th>\n",
              "      <th>Image-URL-M</th>\n",
              "      <th>Image-URL-L</th>\n",
              "    </tr>\n",
              "  </thead>\n",
              "  <tbody>\n",
              "    <tr>\n",
              "      <th>0</th>\n",
              "      <td>276725</td>\n",
              "      <td>034545104X</td>\n",
              "      <td>0</td>\n",
              "      <td>Flesh Tones: A Novel</td>\n",
              "      <td>M. J. Rose</td>\n",
              "      <td>2002</td>\n",
              "      <td>Ballantine Books</td>\n",
              "      <td>http://images.amazon.com/images/P/034545104X.0...</td>\n",
              "      <td>http://images.amazon.com/images/P/034545104X.0...</td>\n",
              "      <td>http://images.amazon.com/images/P/034545104X.0...</td>\n",
              "    </tr>\n",
              "    <tr>\n",
              "      <th>1</th>\n",
              "      <td>2313</td>\n",
              "      <td>034545104X</td>\n",
              "      <td>5</td>\n",
              "      <td>Flesh Tones: A Novel</td>\n",
              "      <td>M. J. Rose</td>\n",
              "      <td>2002</td>\n",
              "      <td>Ballantine Books</td>\n",
              "      <td>http://images.amazon.com/images/P/034545104X.0...</td>\n",
              "      <td>http://images.amazon.com/images/P/034545104X.0...</td>\n",
              "      <td>http://images.amazon.com/images/P/034545104X.0...</td>\n",
              "    </tr>\n",
              "    <tr>\n",
              "      <th>2</th>\n",
              "      <td>6543</td>\n",
              "      <td>034545104X</td>\n",
              "      <td>0</td>\n",
              "      <td>Flesh Tones: A Novel</td>\n",
              "      <td>M. J. Rose</td>\n",
              "      <td>2002</td>\n",
              "      <td>Ballantine Books</td>\n",
              "      <td>http://images.amazon.com/images/P/034545104X.0...</td>\n",
              "      <td>http://images.amazon.com/images/P/034545104X.0...</td>\n",
              "      <td>http://images.amazon.com/images/P/034545104X.0...</td>\n",
              "    </tr>\n",
              "    <tr>\n",
              "      <th>3</th>\n",
              "      <td>8680</td>\n",
              "      <td>034545104X</td>\n",
              "      <td>5</td>\n",
              "      <td>Flesh Tones: A Novel</td>\n",
              "      <td>M. J. Rose</td>\n",
              "      <td>2002</td>\n",
              "      <td>Ballantine Books</td>\n",
              "      <td>http://images.amazon.com/images/P/034545104X.0...</td>\n",
              "      <td>http://images.amazon.com/images/P/034545104X.0...</td>\n",
              "      <td>http://images.amazon.com/images/P/034545104X.0...</td>\n",
              "    </tr>\n",
              "    <tr>\n",
              "      <th>4</th>\n",
              "      <td>10314</td>\n",
              "      <td>034545104X</td>\n",
              "      <td>9</td>\n",
              "      <td>Flesh Tones: A Novel</td>\n",
              "      <td>M. J. Rose</td>\n",
              "      <td>2002</td>\n",
              "      <td>Ballantine Books</td>\n",
              "      <td>http://images.amazon.com/images/P/034545104X.0...</td>\n",
              "      <td>http://images.amazon.com/images/P/034545104X.0...</td>\n",
              "      <td>http://images.amazon.com/images/P/034545104X.0...</td>\n",
              "    </tr>\n",
              "  </tbody>\n",
              "</table>\n",
              "</div>"
            ],
            "text/plain": [
              "   User-ID        ISBN  Book-Rating            Book-Title Book-Author  \\\n",
              "0   276725  034545104X            0  Flesh Tones: A Novel  M. J. Rose   \n",
              "1     2313  034545104X            5  Flesh Tones: A Novel  M. J. Rose   \n",
              "2     6543  034545104X            0  Flesh Tones: A Novel  M. J. Rose   \n",
              "3     8680  034545104X            5  Flesh Tones: A Novel  M. J. Rose   \n",
              "4    10314  034545104X            9  Flesh Tones: A Novel  M. J. Rose   \n",
              "\n",
              "  Year-Of-Publication         Publisher  \\\n",
              "0                2002  Ballantine Books   \n",
              "1                2002  Ballantine Books   \n",
              "2                2002  Ballantine Books   \n",
              "3                2002  Ballantine Books   \n",
              "4                2002  Ballantine Books   \n",
              "\n",
              "                                         Image-URL-S  \\\n",
              "0  http://images.amazon.com/images/P/034545104X.0...   \n",
              "1  http://images.amazon.com/images/P/034545104X.0...   \n",
              "2  http://images.amazon.com/images/P/034545104X.0...   \n",
              "3  http://images.amazon.com/images/P/034545104X.0...   \n",
              "4  http://images.amazon.com/images/P/034545104X.0...   \n",
              "\n",
              "                                         Image-URL-M  \\\n",
              "0  http://images.amazon.com/images/P/034545104X.0...   \n",
              "1  http://images.amazon.com/images/P/034545104X.0...   \n",
              "2  http://images.amazon.com/images/P/034545104X.0...   \n",
              "3  http://images.amazon.com/images/P/034545104X.0...   \n",
              "4  http://images.amazon.com/images/P/034545104X.0...   \n",
              "\n",
              "                                         Image-URL-L  \n",
              "0  http://images.amazon.com/images/P/034545104X.0...  \n",
              "1  http://images.amazon.com/images/P/034545104X.0...  \n",
              "2  http://images.amazon.com/images/P/034545104X.0...  \n",
              "3  http://images.amazon.com/images/P/034545104X.0...  \n",
              "4  http://images.amazon.com/images/P/034545104X.0...  "
            ]
          },
          "execution_count": 11,
          "metadata": {},
          "output_type": "execute_result"
        }
      ],
      "source": [
        "# for that first merge books and rating dataset\n",
        "# df_books.merge(df_books,on='ISBN')['here you can menstion need column names ']\n",
        "\n",
        "df_rating_books=df_rating.merge(df_books,on='ISBN')\n",
        "df_rating_books.head()"
      ]
    },
    {
      "cell_type": "code",
      "execution_count": 12,
      "metadata": {
        "colab": {
          "base_uri": "https://localhost:8080/"
        },
        "id": "ktMPlZR_nUgi",
        "outputId": "e5a7402f-c101-4f96-bb13-c3e37c9df10b"
      },
      "outputs": [
        {
          "data": {
            "text/plain": [
              "Index(['User-ID', 'ISBN', 'Book-Rating', 'Book-Title', 'Book-Author',\n",
              "       'Year-Of-Publication', 'Publisher', 'Image-URL-S', 'Image-URL-M',\n",
              "       'Image-URL-L'],\n",
              "      dtype='object')"
            ]
          },
          "execution_count": 12,
          "metadata": {},
          "output_type": "execute_result"
        }
      ],
      "source": [
        "df_rating_books.columns"
      ]
    },
    {
      "cell_type": "code",
      "execution_count": 13,
      "metadata": {
        "colab": {
          "base_uri": "https://localhost:8080/",
          "height": 542
        },
        "id": "LxvH-Yaklb2K",
        "outputId": "31e4cff9-c7aa-4e93-a9f0-7a3c1a118bcc"
      },
      "outputs": [
        {
          "data": {
            "text/html": [
              "<div>\n",
              "<style scoped>\n",
              "    .dataframe tbody tr th:only-of-type {\n",
              "        vertical-align: middle;\n",
              "    }\n",
              "\n",
              "    .dataframe tbody tr th {\n",
              "        vertical-align: top;\n",
              "    }\n",
              "\n",
              "    .dataframe thead th {\n",
              "        text-align: right;\n",
              "    }\n",
              "</style>\n",
              "<table border=\"1\" class=\"dataframe\">\n",
              "  <thead>\n",
              "    <tr style=\"text-align: right;\">\n",
              "      <th></th>\n",
              "      <th>User-ID</th>\n",
              "      <th>ISBN</th>\n",
              "      <th>Book-Rating</th>\n",
              "      <th>Book-Author</th>\n",
              "      <th>Year-Of-Publication</th>\n",
              "      <th>Publisher</th>\n",
              "      <th>Image-URL-S</th>\n",
              "      <th>Image-URL-M</th>\n",
              "      <th>Image-URL-L</th>\n",
              "    </tr>\n",
              "    <tr>\n",
              "      <th>Book-Title</th>\n",
              "      <th></th>\n",
              "      <th></th>\n",
              "      <th></th>\n",
              "      <th></th>\n",
              "      <th></th>\n",
              "      <th></th>\n",
              "      <th></th>\n",
              "      <th></th>\n",
              "      <th></th>\n",
              "    </tr>\n",
              "  </thead>\n",
              "  <tbody>\n",
              "    <tr>\n",
              "      <th>A Light in the Storm: The Civil War Diary of Amelia Martin, Fenwick Island, Delaware, 1861 (Dear America)</th>\n",
              "      <td>4</td>\n",
              "      <td>4</td>\n",
              "      <td>4</td>\n",
              "      <td>4</td>\n",
              "      <td>4</td>\n",
              "      <td>4</td>\n",
              "      <td>4</td>\n",
              "      <td>4</td>\n",
              "      <td>4</td>\n",
              "    </tr>\n",
              "    <tr>\n",
              "      <th>Always Have Popsicles</th>\n",
              "      <td>1</td>\n",
              "      <td>1</td>\n",
              "      <td>1</td>\n",
              "      <td>1</td>\n",
              "      <td>1</td>\n",
              "      <td>1</td>\n",
              "      <td>1</td>\n",
              "      <td>1</td>\n",
              "      <td>1</td>\n",
              "    </tr>\n",
              "    <tr>\n",
              "      <th>Apple Magic (The Collector's series)</th>\n",
              "      <td>1</td>\n",
              "      <td>1</td>\n",
              "      <td>1</td>\n",
              "      <td>1</td>\n",
              "      <td>1</td>\n",
              "      <td>1</td>\n",
              "      <td>1</td>\n",
              "      <td>1</td>\n",
              "      <td>1</td>\n",
              "    </tr>\n",
              "    <tr>\n",
              "      <th>Ask Lily (Young Women of Faith: Lily Series, Book 5)</th>\n",
              "      <td>1</td>\n",
              "      <td>1</td>\n",
              "      <td>1</td>\n",
              "      <td>1</td>\n",
              "      <td>1</td>\n",
              "      <td>1</td>\n",
              "      <td>1</td>\n",
              "      <td>1</td>\n",
              "      <td>1</td>\n",
              "    </tr>\n",
              "    <tr>\n",
              "      <th>Beyond IBM: Leadership Marketing and Finance for the 1990s</th>\n",
              "      <td>1</td>\n",
              "      <td>1</td>\n",
              "      <td>1</td>\n",
              "      <td>1</td>\n",
              "      <td>1</td>\n",
              "      <td>1</td>\n",
              "      <td>1</td>\n",
              "      <td>1</td>\n",
              "      <td>1</td>\n",
              "    </tr>\n",
              "    <tr>\n",
              "      <th>...</th>\n",
              "      <td>...</td>\n",
              "      <td>...</td>\n",
              "      <td>...</td>\n",
              "      <td>...</td>\n",
              "      <td>...</td>\n",
              "      <td>...</td>\n",
              "      <td>...</td>\n",
              "      <td>...</td>\n",
              "      <td>...</td>\n",
              "    </tr>\n",
              "    <tr>\n",
              "      <th>Ã?Â?lpiraten.</th>\n",
              "      <td>2</td>\n",
              "      <td>2</td>\n",
              "      <td>2</td>\n",
              "      <td>2</td>\n",
              "      <td>2</td>\n",
              "      <td>2</td>\n",
              "      <td>2</td>\n",
              "      <td>2</td>\n",
              "      <td>2</td>\n",
              "    </tr>\n",
              "    <tr>\n",
              "      <th>Ã?Â?rger mit Produkt X. Roman.</th>\n",
              "      <td>4</td>\n",
              "      <td>4</td>\n",
              "      <td>4</td>\n",
              "      <td>4</td>\n",
              "      <td>4</td>\n",
              "      <td>4</td>\n",
              "      <td>4</td>\n",
              "      <td>4</td>\n",
              "      <td>4</td>\n",
              "    </tr>\n",
              "    <tr>\n",
              "      <th>Ã?Â?sterlich leben.</th>\n",
              "      <td>1</td>\n",
              "      <td>1</td>\n",
              "      <td>1</td>\n",
              "      <td>1</td>\n",
              "      <td>1</td>\n",
              "      <td>1</td>\n",
              "      <td>1</td>\n",
              "      <td>1</td>\n",
              "      <td>1</td>\n",
              "    </tr>\n",
              "    <tr>\n",
              "      <th>Ã?Â?stlich der Berge.</th>\n",
              "      <td>3</td>\n",
              "      <td>3</td>\n",
              "      <td>3</td>\n",
              "      <td>3</td>\n",
              "      <td>3</td>\n",
              "      <td>3</td>\n",
              "      <td>3</td>\n",
              "      <td>3</td>\n",
              "      <td>3</td>\n",
              "    </tr>\n",
              "    <tr>\n",
              "      <th>Ã?Â?thique en toc</th>\n",
              "      <td>2</td>\n",
              "      <td>2</td>\n",
              "      <td>2</td>\n",
              "      <td>2</td>\n",
              "      <td>2</td>\n",
              "      <td>2</td>\n",
              "      <td>2</td>\n",
              "      <td>2</td>\n",
              "      <td>2</td>\n",
              "    </tr>\n",
              "  </tbody>\n",
              "</table>\n",
              "<p>241071 rows × 9 columns</p>\n",
              "</div>"
            ],
            "text/plain": [
              "                                                    User-ID  ISBN  \\\n",
              "Book-Title                                                          \n",
              " A Light in the Storm: The Civil War Diary of A...        4     4   \n",
              " Always Have Popsicles                                    1     1   \n",
              " Apple Magic (The Collector's series)                     1     1   \n",
              " Ask Lily (Young Women of Faith: Lily Series, B...        1     1   \n",
              " Beyond IBM: Leadership Marketing and Finance f...        1     1   \n",
              "...                                                     ...   ...   \n",
              "Ã?Â?lpiraten.                                             2     2   \n",
              "Ã?Â?rger mit Produkt X. Roman.                            4     4   \n",
              "Ã?Â?sterlich leben.                                       1     1   \n",
              "Ã?Â?stlich der Berge.                                     3     3   \n",
              "Ã?Â?thique en toc                                         2     2   \n",
              "\n",
              "                                                    Book-Rating  Book-Author  \\\n",
              "Book-Title                                                                     \n",
              " A Light in the Storm: The Civil War Diary of A...            4            4   \n",
              " Always Have Popsicles                                        1            1   \n",
              " Apple Magic (The Collector's series)                         1            1   \n",
              " Ask Lily (Young Women of Faith: Lily Series, B...            1            1   \n",
              " Beyond IBM: Leadership Marketing and Finance f...            1            1   \n",
              "...                                                         ...          ...   \n",
              "Ã?Â?lpiraten.                                                 2            2   \n",
              "Ã?Â?rger mit Produkt X. Roman.                                4            4   \n",
              "Ã?Â?sterlich leben.                                           1            1   \n",
              "Ã?Â?stlich der Berge.                                         3            3   \n",
              "Ã?Â?thique en toc                                             2            2   \n",
              "\n",
              "                                                    Year-Of-Publication  \\\n",
              "Book-Title                                                                \n",
              " A Light in the Storm: The Civil War Diary of A...                    4   \n",
              " Always Have Popsicles                                                1   \n",
              " Apple Magic (The Collector's series)                                 1   \n",
              " Ask Lily (Young Women of Faith: Lily Series, B...                    1   \n",
              " Beyond IBM: Leadership Marketing and Finance f...                    1   \n",
              "...                                                                 ...   \n",
              "Ã?Â?lpiraten.                                                         2   \n",
              "Ã?Â?rger mit Produkt X. Roman.                                        4   \n",
              "Ã?Â?sterlich leben.                                                   1   \n",
              "Ã?Â?stlich der Berge.                                                 3   \n",
              "Ã?Â?thique en toc                                                     2   \n",
              "\n",
              "                                                    Publisher  Image-URL-S  \\\n",
              "Book-Title                                                                   \n",
              " A Light in the Storm: The Civil War Diary of A...          4            4   \n",
              " Always Have Popsicles                                      1            1   \n",
              " Apple Magic (The Collector's series)                       1            1   \n",
              " Ask Lily (Young Women of Faith: Lily Series, B...          1            1   \n",
              " Beyond IBM: Leadership Marketing and Finance f...          1            1   \n",
              "...                                                       ...          ...   \n",
              "Ã?Â?lpiraten.                                               2            2   \n",
              "Ã?Â?rger mit Produkt X. Roman.                              4            4   \n",
              "Ã?Â?sterlich leben.                                         1            1   \n",
              "Ã?Â?stlich der Berge.                                       3            3   \n",
              "Ã?Â?thique en toc                                           2            2   \n",
              "\n",
              "                                                    Image-URL-M  Image-URL-L  \n",
              "Book-Title                                                                    \n",
              " A Light in the Storm: The Civil War Diary of A...            4            4  \n",
              " Always Have Popsicles                                        1            1  \n",
              " Apple Magic (The Collector's series)                         1            1  \n",
              " Ask Lily (Young Women of Faith: Lily Series, B...            1            1  \n",
              " Beyond IBM: Leadership Marketing and Finance f...            1            1  \n",
              "...                                                         ...          ...  \n",
              "Ã?Â?lpiraten.                                                 2            2  \n",
              "Ã?Â?rger mit Produkt X. Roman.                                4            4  \n",
              "Ã?Â?sterlich leben.                                           1            1  \n",
              "Ã?Â?stlich der Berge.                                         3            3  \n",
              "Ã?Â?thique en toc                                             2            2  \n",
              "\n",
              "[241071 rows x 9 columns]"
            ]
          },
          "execution_count": 13,
          "metadata": {},
          "output_type": "execute_result"
        }
      ],
      "source": [
        "#  now  need books and there rating for that  use group by function\n",
        "\n",
        "df_rating_books.groupby('Book-Title').count()"
      ]
    },
    {
      "cell_type": "code",
      "execution_count": 14,
      "metadata": {
        "colab": {
          "base_uri": "https://localhost:8080/",
          "height": 423
        },
        "id": "AdmYs_Pym3EX",
        "outputId": "452e6dea-2946-4d34-e64e-98509363407b"
      },
      "outputs": [
        {
          "data": {
            "text/html": [
              "<div>\n",
              "<style scoped>\n",
              "    .dataframe tbody tr th:only-of-type {\n",
              "        vertical-align: middle;\n",
              "    }\n",
              "\n",
              "    .dataframe tbody tr th {\n",
              "        vertical-align: top;\n",
              "    }\n",
              "\n",
              "    .dataframe thead th {\n",
              "        text-align: right;\n",
              "    }\n",
              "</style>\n",
              "<table border=\"1\" class=\"dataframe\">\n",
              "  <thead>\n",
              "    <tr style=\"text-align: right;\">\n",
              "      <th></th>\n",
              "      <th>Book-Title</th>\n",
              "      <th>Book-Rating</th>\n",
              "    </tr>\n",
              "  </thead>\n",
              "  <tbody>\n",
              "    <tr>\n",
              "      <th>0</th>\n",
              "      <td>A Light in the Storm: The Civil War Diary of ...</td>\n",
              "      <td>4</td>\n",
              "    </tr>\n",
              "    <tr>\n",
              "      <th>1</th>\n",
              "      <td>Always Have Popsicles</td>\n",
              "      <td>1</td>\n",
              "    </tr>\n",
              "    <tr>\n",
              "      <th>2</th>\n",
              "      <td>Apple Magic (The Collector's series)</td>\n",
              "      <td>1</td>\n",
              "    </tr>\n",
              "    <tr>\n",
              "      <th>3</th>\n",
              "      <td>Ask Lily (Young Women of Faith: Lily Series, ...</td>\n",
              "      <td>1</td>\n",
              "    </tr>\n",
              "    <tr>\n",
              "      <th>4</th>\n",
              "      <td>Beyond IBM: Leadership Marketing and Finance ...</td>\n",
              "      <td>1</td>\n",
              "    </tr>\n",
              "    <tr>\n",
              "      <th>...</th>\n",
              "      <td>...</td>\n",
              "      <td>...</td>\n",
              "    </tr>\n",
              "    <tr>\n",
              "      <th>241066</th>\n",
              "      <td>Ã?Â?lpiraten.</td>\n",
              "      <td>2</td>\n",
              "    </tr>\n",
              "    <tr>\n",
              "      <th>241067</th>\n",
              "      <td>Ã?Â?rger mit Produkt X. Roman.</td>\n",
              "      <td>4</td>\n",
              "    </tr>\n",
              "    <tr>\n",
              "      <th>241068</th>\n",
              "      <td>Ã?Â?sterlich leben.</td>\n",
              "      <td>1</td>\n",
              "    </tr>\n",
              "    <tr>\n",
              "      <th>241069</th>\n",
              "      <td>Ã?Â?stlich der Berge.</td>\n",
              "      <td>3</td>\n",
              "    </tr>\n",
              "    <tr>\n",
              "      <th>241070</th>\n",
              "      <td>Ã?Â?thique en toc</td>\n",
              "      <td>2</td>\n",
              "    </tr>\n",
              "  </tbody>\n",
              "</table>\n",
              "<p>241071 rows × 2 columns</p>\n",
              "</div>"
            ],
            "text/plain": [
              "                                               Book-Title  Book-Rating\n",
              "0        A Light in the Storm: The Civil War Diary of ...            4\n",
              "1                                   Always Have Popsicles            1\n",
              "2                    Apple Magic (The Collector's series)            1\n",
              "3        Ask Lily (Young Women of Faith: Lily Series, ...            1\n",
              "4        Beyond IBM: Leadership Marketing and Finance ...            1\n",
              "...                                                   ...          ...\n",
              "241066                                      Ã?Â?lpiraten.            2\n",
              "241067                     Ã?Â?rger mit Produkt X. Roman.            4\n",
              "241068                                Ã?Â?sterlich leben.            1\n",
              "241069                              Ã?Â?stlich der Berge.            3\n",
              "241070                                  Ã?Â?thique en toc            2\n",
              "\n",
              "[241071 rows x 2 columns]"
            ]
          },
          "execution_count": 14,
          "metadata": {},
          "output_type": "execute_result"
        }
      ],
      "source": [
        "# now filter and select only 2 coumns books-title and the rating\n",
        "\n",
        "\n",
        "rating_books=df_rating_books.groupby('Book-Title').count()['Book-Rating'].reset_index()\n",
        "\n",
        "rating_books"
      ]
    },
    {
      "cell_type": "code",
      "execution_count": 15,
      "metadata": {
        "colab": {
          "base_uri": "https://localhost:8080/",
          "height": 423
        },
        "id": "ad8kb32OoERk",
        "outputId": "b5cf5283-22a7-439d-9989-7bb89af37b78"
      },
      "outputs": [
        {
          "data": {
            "text/html": [
              "<div>\n",
              "<style scoped>\n",
              "    .dataframe tbody tr th:only-of-type {\n",
              "        vertical-align: middle;\n",
              "    }\n",
              "\n",
              "    .dataframe tbody tr th {\n",
              "        vertical-align: top;\n",
              "    }\n",
              "\n",
              "    .dataframe thead th {\n",
              "        text-align: right;\n",
              "    }\n",
              "</style>\n",
              "<table border=\"1\" class=\"dataframe\">\n",
              "  <thead>\n",
              "    <tr style=\"text-align: right;\">\n",
              "      <th></th>\n",
              "      <th>Book-Title</th>\n",
              "      <th>avg_rating</th>\n",
              "    </tr>\n",
              "  </thead>\n",
              "  <tbody>\n",
              "    <tr>\n",
              "      <th>0</th>\n",
              "      <td>A Light in the Storm: The Civil War Diary of ...</td>\n",
              "      <td>2.250000</td>\n",
              "    </tr>\n",
              "    <tr>\n",
              "      <th>1</th>\n",
              "      <td>Always Have Popsicles</td>\n",
              "      <td>0.000000</td>\n",
              "    </tr>\n",
              "    <tr>\n",
              "      <th>2</th>\n",
              "      <td>Apple Magic (The Collector's series)</td>\n",
              "      <td>0.000000</td>\n",
              "    </tr>\n",
              "    <tr>\n",
              "      <th>3</th>\n",
              "      <td>Ask Lily (Young Women of Faith: Lily Series, ...</td>\n",
              "      <td>8.000000</td>\n",
              "    </tr>\n",
              "    <tr>\n",
              "      <th>4</th>\n",
              "      <td>Beyond IBM: Leadership Marketing and Finance ...</td>\n",
              "      <td>0.000000</td>\n",
              "    </tr>\n",
              "    <tr>\n",
              "      <th>...</th>\n",
              "      <td>...</td>\n",
              "      <td>...</td>\n",
              "    </tr>\n",
              "    <tr>\n",
              "      <th>241066</th>\n",
              "      <td>Ã?Â?lpiraten.</td>\n",
              "      <td>0.000000</td>\n",
              "    </tr>\n",
              "    <tr>\n",
              "      <th>241067</th>\n",
              "      <td>Ã?Â?rger mit Produkt X. Roman.</td>\n",
              "      <td>5.250000</td>\n",
              "    </tr>\n",
              "    <tr>\n",
              "      <th>241068</th>\n",
              "      <td>Ã?Â?sterlich leben.</td>\n",
              "      <td>7.000000</td>\n",
              "    </tr>\n",
              "    <tr>\n",
              "      <th>241069</th>\n",
              "      <td>Ã?Â?stlich der Berge.</td>\n",
              "      <td>2.666667</td>\n",
              "    </tr>\n",
              "    <tr>\n",
              "      <th>241070</th>\n",
              "      <td>Ã?Â?thique en toc</td>\n",
              "      <td>4.000000</td>\n",
              "    </tr>\n",
              "  </tbody>\n",
              "</table>\n",
              "<p>241071 rows × 2 columns</p>\n",
              "</div>"
            ],
            "text/plain": [
              "                                               Book-Title  avg_rating\n",
              "0        A Light in the Storm: The Civil War Diary of ...    2.250000\n",
              "1                                   Always Have Popsicles    0.000000\n",
              "2                    Apple Magic (The Collector's series)    0.000000\n",
              "3        Ask Lily (Young Women of Faith: Lily Series, ...    8.000000\n",
              "4        Beyond IBM: Leadership Marketing and Finance ...    0.000000\n",
              "...                                                   ...         ...\n",
              "241066                                      Ã?Â?lpiraten.    0.000000\n",
              "241067                     Ã?Â?rger mit Produkt X. Roman.    5.250000\n",
              "241068                                Ã?Â?sterlich leben.    7.000000\n",
              "241069                              Ã?Â?stlich der Berge.    2.666667\n",
              "241070                                  Ã?Â?thique en toc    4.000000\n",
              "\n",
              "[241071 rows x 2 columns]"
            ]
          },
          "execution_count": 15,
          "metadata": {},
          "output_type": "execute_result"
        }
      ],
      "source": [
        "# # now create one more column  for the avarage  of rating fid for that use mean() in old dataset (merge rating+ books= df_rating_books)\n",
        "# avg_rating=df_rating_books.groupby('Book-Title').mean(skipna=True)['Book-Rating'].reset_index()\n",
        "# avg_rating.rename(columns={'Book-Rating':'avg_rating'},inplace=True)\n",
        "# avg_rating\n",
        "\n",
        "avg_rating = df_rating_books.groupby('Book-Title')['Book-Rating'].mean().reset_index()\n",
        "avg_rating.rename(columns={'Book-Rating': 'avg_rating'}, inplace=True)\n",
        "avg_rating\n"
      ]
    },
    {
      "cell_type": "code",
      "execution_count": 16,
      "metadata": {
        "colab": {
          "base_uri": "https://localhost:8080/",
          "height": 423
        },
        "id": "a49lC84Gq44B",
        "outputId": "2c82c649-d592-49cb-b9fa-9e158a4f225f"
      },
      "outputs": [
        {
          "data": {
            "text/html": [
              "<div>\n",
              "<style scoped>\n",
              "    .dataframe tbody tr th:only-of-type {\n",
              "        vertical-align: middle;\n",
              "    }\n",
              "\n",
              "    .dataframe tbody tr th {\n",
              "        vertical-align: top;\n",
              "    }\n",
              "\n",
              "    .dataframe thead th {\n",
              "        text-align: right;\n",
              "    }\n",
              "</style>\n",
              "<table border=\"1\" class=\"dataframe\">\n",
              "  <thead>\n",
              "    <tr style=\"text-align: right;\">\n",
              "      <th></th>\n",
              "      <th>Book-Title</th>\n",
              "      <th>Book-Rating</th>\n",
              "      <th>avg_rating</th>\n",
              "    </tr>\n",
              "  </thead>\n",
              "  <tbody>\n",
              "    <tr>\n",
              "      <th>0</th>\n",
              "      <td>A Light in the Storm: The Civil War Diary of ...</td>\n",
              "      <td>4</td>\n",
              "      <td>2.250000</td>\n",
              "    </tr>\n",
              "    <tr>\n",
              "      <th>1</th>\n",
              "      <td>Always Have Popsicles</td>\n",
              "      <td>1</td>\n",
              "      <td>0.000000</td>\n",
              "    </tr>\n",
              "    <tr>\n",
              "      <th>2</th>\n",
              "      <td>Apple Magic (The Collector's series)</td>\n",
              "      <td>1</td>\n",
              "      <td>0.000000</td>\n",
              "    </tr>\n",
              "    <tr>\n",
              "      <th>3</th>\n",
              "      <td>Ask Lily (Young Women of Faith: Lily Series, ...</td>\n",
              "      <td>1</td>\n",
              "      <td>8.000000</td>\n",
              "    </tr>\n",
              "    <tr>\n",
              "      <th>4</th>\n",
              "      <td>Beyond IBM: Leadership Marketing and Finance ...</td>\n",
              "      <td>1</td>\n",
              "      <td>0.000000</td>\n",
              "    </tr>\n",
              "    <tr>\n",
              "      <th>...</th>\n",
              "      <td>...</td>\n",
              "      <td>...</td>\n",
              "      <td>...</td>\n",
              "    </tr>\n",
              "    <tr>\n",
              "      <th>241066</th>\n",
              "      <td>Ã?Â?lpiraten.</td>\n",
              "      <td>2</td>\n",
              "      <td>0.000000</td>\n",
              "    </tr>\n",
              "    <tr>\n",
              "      <th>241067</th>\n",
              "      <td>Ã?Â?rger mit Produkt X. Roman.</td>\n",
              "      <td>4</td>\n",
              "      <td>5.250000</td>\n",
              "    </tr>\n",
              "    <tr>\n",
              "      <th>241068</th>\n",
              "      <td>Ã?Â?sterlich leben.</td>\n",
              "      <td>1</td>\n",
              "      <td>7.000000</td>\n",
              "    </tr>\n",
              "    <tr>\n",
              "      <th>241069</th>\n",
              "      <td>Ã?Â?stlich der Berge.</td>\n",
              "      <td>3</td>\n",
              "      <td>2.666667</td>\n",
              "    </tr>\n",
              "    <tr>\n",
              "      <th>241070</th>\n",
              "      <td>Ã?Â?thique en toc</td>\n",
              "      <td>2</td>\n",
              "      <td>4.000000</td>\n",
              "    </tr>\n",
              "  </tbody>\n",
              "</table>\n",
              "<p>241071 rows × 3 columns</p>\n",
              "</div>"
            ],
            "text/plain": [
              "                                               Book-Title  Book-Rating  \\\n",
              "0        A Light in the Storm: The Civil War Diary of ...            4   \n",
              "1                                   Always Have Popsicles            1   \n",
              "2                    Apple Magic (The Collector's series)            1   \n",
              "3        Ask Lily (Young Women of Faith: Lily Series, ...            1   \n",
              "4        Beyond IBM: Leadership Marketing and Finance ...            1   \n",
              "...                                                   ...          ...   \n",
              "241066                                      Ã?Â?lpiraten.            2   \n",
              "241067                     Ã?Â?rger mit Produkt X. Roman.            4   \n",
              "241068                                Ã?Â?sterlich leben.            1   \n",
              "241069                              Ã?Â?stlich der Berge.            3   \n",
              "241070                                  Ã?Â?thique en toc            2   \n",
              "\n",
              "        avg_rating  \n",
              "0         2.250000  \n",
              "1         0.000000  \n",
              "2         0.000000  \n",
              "3         8.000000  \n",
              "4         0.000000  \n",
              "...            ...  \n",
              "241066    0.000000  \n",
              "241067    5.250000  \n",
              "241068    7.000000  \n",
              "241069    2.666667  \n",
              "241070    4.000000  \n",
              "\n",
              "[241071 rows x 3 columns]"
            ]
          },
          "execution_count": 16,
          "metadata": {},
          "output_type": "execute_result"
        }
      ],
      "source": [
        "# now merge both dataset  and same column is Books-Title\n",
        "\n",
        "books_rating_avg=rating_books.merge(avg_rating,on='Book-Title')\n",
        "books_rating_avg\n",
        "\n",
        "\n"
      ]
    },
    {
      "cell_type": "code",
      "execution_count": 17,
      "metadata": {
        "colab": {
          "base_uri": "https://localhost:8080/"
        },
        "id": "1OclPbtataRm",
        "outputId": "06a8645f-b205-4243-b0b8-c5b11309f11c"
      },
      "outputs": [
        {
          "data": {
            "text/plain": [
              "(60, 3)"
            ]
          },
          "execution_count": 17,
          "metadata": {},
          "output_type": "execute_result"
        }
      ],
      "source": [
        "# now print that book they rating above that 100\n",
        "\n",
        "top_60_books=books_rating_avg[books_rating_avg['Book-Rating']>120].sort_values('avg_rating',ascending=False).head(60)\n",
        "top_60_books.shape"
      ]
    },
    {
      "cell_type": "code",
      "execution_count": 18,
      "metadata": {
        "colab": {
          "base_uri": "https://localhost:8080/",
          "height": 219
        },
        "id": "nVfsltKdCAb9",
        "outputId": "bf882fdf-1b83-4d36-cb22-eda5178bc562"
      },
      "outputs": [
        {
          "data": {
            "text/html": [
              "<div>\n",
              "<style scoped>\n",
              "    .dataframe tbody tr th:only-of-type {\n",
              "        vertical-align: middle;\n",
              "    }\n",
              "\n",
              "    .dataframe tbody tr th {\n",
              "        vertical-align: top;\n",
              "    }\n",
              "\n",
              "    .dataframe thead th {\n",
              "        text-align: right;\n",
              "    }\n",
              "</style>\n",
              "<table border=\"1\" class=\"dataframe\">\n",
              "  <thead>\n",
              "    <tr style=\"text-align: right;\">\n",
              "      <th></th>\n",
              "      <th>ISBN</th>\n",
              "      <th>Book-Title</th>\n",
              "      <th>Book-Author</th>\n",
              "      <th>Year-Of-Publication</th>\n",
              "      <th>Publisher</th>\n",
              "      <th>Image-URL-S</th>\n",
              "      <th>Image-URL-M</th>\n",
              "      <th>Image-URL-L</th>\n",
              "    </tr>\n",
              "  </thead>\n",
              "  <tbody>\n",
              "    <tr>\n",
              "      <th>0</th>\n",
              "      <td>0195153448</td>\n",
              "      <td>Classical Mythology</td>\n",
              "      <td>Mark P. O. Morford</td>\n",
              "      <td>2002</td>\n",
              "      <td>Oxford University Press</td>\n",
              "      <td>http://images.amazon.com/images/P/0195153448.0...</td>\n",
              "      <td>http://images.amazon.com/images/P/0195153448.0...</td>\n",
              "      <td>http://images.amazon.com/images/P/0195153448.0...</td>\n",
              "    </tr>\n",
              "    <tr>\n",
              "      <th>1</th>\n",
              "      <td>0002005018</td>\n",
              "      <td>Clara Callan</td>\n",
              "      <td>Richard Bruce Wright</td>\n",
              "      <td>2001</td>\n",
              "      <td>HarperFlamingo Canada</td>\n",
              "      <td>http://images.amazon.com/images/P/0002005018.0...</td>\n",
              "      <td>http://images.amazon.com/images/P/0002005018.0...</td>\n",
              "      <td>http://images.amazon.com/images/P/0002005018.0...</td>\n",
              "    </tr>\n",
              "  </tbody>\n",
              "</table>\n",
              "</div>"
            ],
            "text/plain": [
              "         ISBN           Book-Title           Book-Author Year-Of-Publication  \\\n",
              "0  0195153448  Classical Mythology    Mark P. O. Morford                2002   \n",
              "1  0002005018         Clara Callan  Richard Bruce Wright                2001   \n",
              "\n",
              "                 Publisher                                        Image-URL-S  \\\n",
              "0  Oxford University Press  http://images.amazon.com/images/P/0195153448.0...   \n",
              "1    HarperFlamingo Canada  http://images.amazon.com/images/P/0002005018.0...   \n",
              "\n",
              "                                         Image-URL-M  \\\n",
              "0  http://images.amazon.com/images/P/0195153448.0...   \n",
              "1  http://images.amazon.com/images/P/0002005018.0...   \n",
              "\n",
              "                                         Image-URL-L  \n",
              "0  http://images.amazon.com/images/P/0195153448.0...  \n",
              "1  http://images.amazon.com/images/P/0002005018.0...  "
            ]
          },
          "execution_count": 18,
          "metadata": {},
          "output_type": "execute_result"
        }
      ],
      "source": [
        "df_books.head(2)"
      ]
    },
    {
      "cell_type": "code",
      "execution_count": 19,
      "metadata": {
        "colab": {
          "base_uri": "https://localhost:8080/",
          "height": 147
        },
        "id": "7_0qN8mjuWWt",
        "outputId": "bec3b252-24d7-48a6-f535-2529317fbfbb"
      },
      "outputs": [
        {
          "data": {
            "text/html": [
              "<div>\n",
              "<style scoped>\n",
              "    .dataframe tbody tr th:only-of-type {\n",
              "        vertical-align: middle;\n",
              "    }\n",
              "\n",
              "    .dataframe tbody tr th {\n",
              "        vertical-align: top;\n",
              "    }\n",
              "\n",
              "    .dataframe thead th {\n",
              "        text-align: right;\n",
              "    }\n",
              "</style>\n",
              "<table border=\"1\" class=\"dataframe\">\n",
              "  <thead>\n",
              "    <tr style=\"text-align: right;\">\n",
              "      <th></th>\n",
              "      <th>Book-Title</th>\n",
              "      <th>Book-Rating</th>\n",
              "      <th>avg_rating</th>\n",
              "      <th>Book-Author</th>\n",
              "      <th>Publisher</th>\n",
              "      <th>Image-URL-M</th>\n",
              "    </tr>\n",
              "  </thead>\n",
              "  <tbody>\n",
              "    <tr>\n",
              "      <th>0</th>\n",
              "      <td>Harry Potter and the Prisoner of Azkaban (Book 3)</td>\n",
              "      <td>428</td>\n",
              "      <td>5.852804</td>\n",
              "      <td>J. K. Rowling</td>\n",
              "      <td>Scholastic</td>\n",
              "      <td>http://images.amazon.com/images/P/0439136350.0...</td>\n",
              "    </tr>\n",
              "    <tr>\n",
              "      <th>3</th>\n",
              "      <td>Harry Potter and the Goblet of Fire (Book 4)</td>\n",
              "      <td>387</td>\n",
              "      <td>5.824289</td>\n",
              "      <td>J. K. Rowling</td>\n",
              "      <td>Scholastic</td>\n",
              "      <td>http://images.amazon.com/images/P/0439139597.0...</td>\n",
              "    </tr>\n",
              "  </tbody>\n",
              "</table>\n",
              "</div>"
            ],
            "text/plain": [
              "                                          Book-Title  Book-Rating  avg_rating  \\\n",
              "0  Harry Potter and the Prisoner of Azkaban (Book 3)          428    5.852804   \n",
              "3       Harry Potter and the Goblet of Fire (Book 4)          387    5.824289   \n",
              "\n",
              "     Book-Author   Publisher  \\\n",
              "0  J. K. Rowling  Scholastic   \n",
              "3  J. K. Rowling  Scholastic   \n",
              "\n",
              "                                         Image-URL-M  \n",
              "0  http://images.amazon.com/images/P/0439136350.0...  \n",
              "3  http://images.amazon.com/images/P/0439139597.0...  "
            ]
          },
          "execution_count": 19,
          "metadata": {},
          "output_type": "execute_result"
        }
      ],
      "source": [
        "# merge final table to books for taking features Book-Author, Image-URL-S\t,Publisher\n",
        "top_60_books=top_60_books.merge(df_books,on='Book-Title').drop_duplicates('Book-Title')[['Book-Title', 'Book-Rating', 'avg_rating', 'Book-Author', 'Publisher','Image-URL-M']]\n",
        "#  .drop_duplicates('Book-Title')\n",
        "# .drop_duplicates('Book-Title')[['Book-Title', 'Book-Rating', 'avg_rating', 'Book-Author_x', 'Publisher_x','Image-URL-M_x']]\n",
        "top_60_books.head(2)"
      ]
    },
    {
      "cell_type": "code",
      "execution_count": 20,
      "metadata": {
        "colab": {
          "base_uri": "https://localhost:8080/"
        },
        "id": "T_5xNRbOurxs",
        "outputId": "b5bc92f5-fdf9-4e72-c316-be46858a7881"
      },
      "outputs": [
        {
          "data": {
            "text/plain": [
              "Index(['Book-Title', 'Book-Rating', 'avg_rating', 'Book-Author', 'Publisher',\n",
              "       'Image-URL-M'],\n",
              "      dtype='object')"
            ]
          },
          "execution_count": 20,
          "metadata": {},
          "output_type": "execute_result"
        }
      ],
      "source": [
        "top_60_books.columns"
      ]
    },
    {
      "cell_type": "code",
      "execution_count": 21,
      "metadata": {
        "colab": {
          "base_uri": "https://localhost:8080/",
          "height": 147
        },
        "id": "Q99VuSmmxvWm",
        "outputId": "3b7db598-951d-4b30-fcd2-9e15979cf3bd"
      },
      "outputs": [
        {
          "name": "stdout",
          "output_type": "stream",
          "text": [
            "                                          Book-Title  Book-Rating  avg_rating  \\\n",
            "0  Harry Potter and the Prisoner of Azkaban (Book 3)          428    5.852804   \n",
            "3       Harry Potter and the Goblet of Fire (Book 4)          387    5.824289   \n",
            "\n",
            "     Book-Author   Publisher  \\\n",
            "0  J. K. Rowling  Scholastic   \n",
            "3  J. K. Rowling  Scholastic   \n",
            "\n",
            "                                         Image-URL-M  \n",
            "0  http://images.amazon.com/images/P/0439136350.0...  \n",
            "3  http://images.amazon.com/images/P/0439139597.0...  \n"
          ]
        }
      ],
      "source": [
        "import joblib\n",
        "\n",
        "# Save top_60_books using joblib with compression\n",
        "joblib.dump(top_60_books, 'topbooks(60).pkl', compress=('gzip', 3))\n",
        "\n",
        "# You can also check the first 2 rows of the DataFrame\n",
        "print(top_60_books.head(2))\n"
      ]
    },
    {
      "cell_type": "markdown",
      "metadata": {
        "id": "hM0_gjmz08Gz"
      },
      "source": [
        "# **Collabrative fitering based  recommandation **"
      ]
    },
    {
      "cell_type": "code",
      "execution_count": 22,
      "metadata": {
        "colab": {
          "base_uri": "https://localhost:8080/",
          "height": 254
        },
        "id": "qttf9ei106hN",
        "outputId": "060b5e9d-0359-4917-c36c-fd963931d470"
      },
      "outputs": [
        {
          "data": {
            "text/html": [
              "<div>\n",
              "<style scoped>\n",
              "    .dataframe tbody tr th:only-of-type {\n",
              "        vertical-align: middle;\n",
              "    }\n",
              "\n",
              "    .dataframe tbody tr th {\n",
              "        vertical-align: top;\n",
              "    }\n",
              "\n",
              "    .dataframe thead th {\n",
              "        text-align: right;\n",
              "    }\n",
              "</style>\n",
              "<table border=\"1\" class=\"dataframe\">\n",
              "  <thead>\n",
              "    <tr style=\"text-align: right;\">\n",
              "      <th></th>\n",
              "      <th>User-ID</th>\n",
              "      <th>ISBN</th>\n",
              "      <th>Book-Rating</th>\n",
              "      <th>Book-Title</th>\n",
              "      <th>Book-Author</th>\n",
              "      <th>Year-Of-Publication</th>\n",
              "      <th>Publisher</th>\n",
              "      <th>Image-URL-S</th>\n",
              "      <th>Image-URL-M</th>\n",
              "      <th>Image-URL-L</th>\n",
              "    </tr>\n",
              "  </thead>\n",
              "  <tbody>\n",
              "    <tr>\n",
              "      <th>0</th>\n",
              "      <td>276725</td>\n",
              "      <td>034545104X</td>\n",
              "      <td>0</td>\n",
              "      <td>Flesh Tones: A Novel</td>\n",
              "      <td>M. J. Rose</td>\n",
              "      <td>2002</td>\n",
              "      <td>Ballantine Books</td>\n",
              "      <td>http://images.amazon.com/images/P/034545104X.0...</td>\n",
              "      <td>http://images.amazon.com/images/P/034545104X.0...</td>\n",
              "      <td>http://images.amazon.com/images/P/034545104X.0...</td>\n",
              "    </tr>\n",
              "    <tr>\n",
              "      <th>1</th>\n",
              "      <td>2313</td>\n",
              "      <td>034545104X</td>\n",
              "      <td>5</td>\n",
              "      <td>Flesh Tones: A Novel</td>\n",
              "      <td>M. J. Rose</td>\n",
              "      <td>2002</td>\n",
              "      <td>Ballantine Books</td>\n",
              "      <td>http://images.amazon.com/images/P/034545104X.0...</td>\n",
              "      <td>http://images.amazon.com/images/P/034545104X.0...</td>\n",
              "      <td>http://images.amazon.com/images/P/034545104X.0...</td>\n",
              "    </tr>\n",
              "  </tbody>\n",
              "</table>\n",
              "</div>"
            ],
            "text/plain": [
              "   User-ID        ISBN  Book-Rating            Book-Title Book-Author  \\\n",
              "0   276725  034545104X            0  Flesh Tones: A Novel  M. J. Rose   \n",
              "1     2313  034545104X            5  Flesh Tones: A Novel  M. J. Rose   \n",
              "\n",
              "  Year-Of-Publication         Publisher  \\\n",
              "0                2002  Ballantine Books   \n",
              "1                2002  Ballantine Books   \n",
              "\n",
              "                                         Image-URL-S  \\\n",
              "0  http://images.amazon.com/images/P/034545104X.0...   \n",
              "1  http://images.amazon.com/images/P/034545104X.0...   \n",
              "\n",
              "                                         Image-URL-M  \\\n",
              "0  http://images.amazon.com/images/P/034545104X.0...   \n",
              "1  http://images.amazon.com/images/P/034545104X.0...   \n",
              "\n",
              "                                         Image-URL-L  \n",
              "0  http://images.amazon.com/images/P/034545104X.0...  \n",
              "1  http://images.amazon.com/images/P/034545104X.0...  "
            ]
          },
          "execution_count": 22,
          "metadata": {},
          "output_type": "execute_result"
        }
      ],
      "source": [
        "#use above dataset that merge books and rathing dataset\n",
        "\n",
        "df_rating_books.head(2)"
      ]
    },
    {
      "cell_type": "code",
      "execution_count": 23,
      "metadata": {
        "colab": {
          "base_uri": "https://localhost:8080/"
        },
        "id": "xZpR5Z5e1Us3",
        "outputId": "2be55fdf-5d36-4b68-e51f-ce73e5e69811"
      },
      "outputs": [
        {
          "data": {
            "text/plain": [
              "User-ID\n",
              "2         False\n",
              "8         False\n",
              "9         False\n",
              "10        False\n",
              "12        False\n",
              "          ...  \n",
              "278846    False\n",
              "278849    False\n",
              "278851    False\n",
              "278852    False\n",
              "278854    False\n",
              "Name: Book-Rating, Length: 92106, dtype: bool"
            ]
          },
          "execution_count": 23,
          "metadata": {},
          "output_type": "execute_result"
        }
      ],
      "source": [
        "# Now  use filterng and  find user that  and there rating score  greater than 180\n",
        "\n",
        "df_rating_books.groupby('User-ID').count()['Book-Rating']>220"
      ]
    },
    {
      "cell_type": "code",
      "execution_count": 24,
      "metadata": {
        "colab": {
          "base_uri": "https://localhost:8080/"
        },
        "id": "dGM18cq92LDK",
        "outputId": "5acc7ed3-4b49-498f-89d7-55202574ad25"
      },
      "outputs": [
        {
          "data": {
            "text/plain": [
              "User-ID\n",
              "254       True\n",
              "2276      True\n",
              "2766      True\n",
              "2977      True\n",
              "3363      True\n",
              "          ... \n",
              "274308    True\n",
              "275970    True\n",
              "277427    True\n",
              "277639    True\n",
              "278418    True\n",
              "Name: Book-Rating, Length: 733, dtype: bool"
            ]
          },
          "execution_count": 24,
          "metadata": {},
          "output_type": "execute_result"
        }
      ],
      "source": [
        "# converting in to boolean values\n",
        "var_a=df_rating_books.groupby('User-ID').count()['Book-Rating']>220\n",
        "\n",
        "# coverting values into boolean\n",
        "var_a[var_a]"
      ]
    },
    {
      "cell_type": "code",
      "execution_count": 25,
      "metadata": {
        "colab": {
          "base_uri": "https://localhost:8080/"
        },
        "id": "zuLtaceI2t_1",
        "outputId": "a7e0417b-a220-42c2-df1c-80a99307f5ba"
      },
      "outputs": [
        {
          "data": {
            "text/plain": [
              "Index([   254,   2276,   2766,   2977,   3363,   4385,   6251,   6543,   6575,\n",
              "         7158,\n",
              "       ...\n",
              "       271705, 273979, 274004, 274061, 274301, 274308, 275970, 277427, 277639,\n",
              "       278418],\n",
              "      dtype='int64', name='User-ID', length=733)"
            ]
          },
          "execution_count": 25,
          "metadata": {},
          "output_type": "execute_result"
        }
      ],
      "source": [
        "# now  above all users are r\n",
        "# ating above than the  180 so find\n",
        "# and fetch in the one variable\n",
        "\n",
        "best_rators=var_a[var_a].index\n",
        "best_rators"
      ]
    },
    {
      "cell_type": "code",
      "execution_count": 26,
      "metadata": {
        "colab": {
          "base_uri": "https://localhost:8080/",
          "height": 337
        },
        "id": "BduqElao3Qwh",
        "outputId": "94f3c4f2-9aa9-4f57-c296-104d05536d7e"
      },
      "outputs": [
        {
          "data": {
            "text/html": [
              "<div>\n",
              "<style scoped>\n",
              "    .dataframe tbody tr th:only-of-type {\n",
              "        vertical-align: middle;\n",
              "    }\n",
              "\n",
              "    .dataframe tbody tr th {\n",
              "        vertical-align: top;\n",
              "    }\n",
              "\n",
              "    .dataframe thead th {\n",
              "        text-align: right;\n",
              "    }\n",
              "</style>\n",
              "<table border=\"1\" class=\"dataframe\">\n",
              "  <thead>\n",
              "    <tr style=\"text-align: right;\">\n",
              "      <th></th>\n",
              "      <th>User-ID</th>\n",
              "      <th>ISBN</th>\n",
              "      <th>Book-Rating</th>\n",
              "      <th>Book-Title</th>\n",
              "      <th>Book-Author</th>\n",
              "      <th>Year-Of-Publication</th>\n",
              "      <th>Publisher</th>\n",
              "      <th>Image-URL-S</th>\n",
              "      <th>Image-URL-M</th>\n",
              "      <th>Image-URL-L</th>\n",
              "    </tr>\n",
              "  </thead>\n",
              "  <tbody>\n",
              "    <tr>\n",
              "      <th>2</th>\n",
              "      <td>6543</td>\n",
              "      <td>034545104X</td>\n",
              "      <td>0</td>\n",
              "      <td>Flesh Tones: A Novel</td>\n",
              "      <td>M. J. Rose</td>\n",
              "      <td>2002</td>\n",
              "      <td>Ballantine Books</td>\n",
              "      <td>http://images.amazon.com/images/P/034545104X.0...</td>\n",
              "      <td>http://images.amazon.com/images/P/034545104X.0...</td>\n",
              "      <td>http://images.amazon.com/images/P/034545104X.0...</td>\n",
              "    </tr>\n",
              "    <tr>\n",
              "      <th>5</th>\n",
              "      <td>23768</td>\n",
              "      <td>034545104X</td>\n",
              "      <td>0</td>\n",
              "      <td>Flesh Tones: A Novel</td>\n",
              "      <td>M. J. Rose</td>\n",
              "      <td>2002</td>\n",
              "      <td>Ballantine Books</td>\n",
              "      <td>http://images.amazon.com/images/P/034545104X.0...</td>\n",
              "      <td>http://images.amazon.com/images/P/034545104X.0...</td>\n",
              "      <td>http://images.amazon.com/images/P/034545104X.0...</td>\n",
              "    </tr>\n",
              "    <tr>\n",
              "      <th>7</th>\n",
              "      <td>28523</td>\n",
              "      <td>034545104X</td>\n",
              "      <td>0</td>\n",
              "      <td>Flesh Tones: A Novel</td>\n",
              "      <td>M. J. Rose</td>\n",
              "      <td>2002</td>\n",
              "      <td>Ballantine Books</td>\n",
              "      <td>http://images.amazon.com/images/P/034545104X.0...</td>\n",
              "      <td>http://images.amazon.com/images/P/034545104X.0...</td>\n",
              "      <td>http://images.amazon.com/images/P/034545104X.0...</td>\n",
              "    </tr>\n",
              "  </tbody>\n",
              "</table>\n",
              "</div>"
            ],
            "text/plain": [
              "   User-ID        ISBN  Book-Rating            Book-Title Book-Author  \\\n",
              "2     6543  034545104X            0  Flesh Tones: A Novel  M. J. Rose   \n",
              "5    23768  034545104X            0  Flesh Tones: A Novel  M. J. Rose   \n",
              "7    28523  034545104X            0  Flesh Tones: A Novel  M. J. Rose   \n",
              "\n",
              "  Year-Of-Publication         Publisher  \\\n",
              "2                2002  Ballantine Books   \n",
              "5                2002  Ballantine Books   \n",
              "7                2002  Ballantine Books   \n",
              "\n",
              "                                         Image-URL-S  \\\n",
              "2  http://images.amazon.com/images/P/034545104X.0...   \n",
              "5  http://images.amazon.com/images/P/034545104X.0...   \n",
              "7  http://images.amazon.com/images/P/034545104X.0...   \n",
              "\n",
              "                                         Image-URL-M  \\\n",
              "2  http://images.amazon.com/images/P/034545104X.0...   \n",
              "5  http://images.amazon.com/images/P/034545104X.0...   \n",
              "7  http://images.amazon.com/images/P/034545104X.0...   \n",
              "\n",
              "                                         Image-URL-L  \n",
              "2  http://images.amazon.com/images/P/034545104X.0...  \n",
              "5  http://images.amazon.com/images/P/034545104X.0...  \n",
              "7  http://images.amazon.com/images/P/034545104X.0...  "
            ]
          },
          "execution_count": 26,
          "metadata": {},
          "output_type": "execute_result"
        }
      ],
      "source": [
        "# now try to apply on the df_rating_books   and find that user they  one of in best_rators list\n",
        "#dataset[column_name].isin(appy_formula)\n",
        "df_rating_books[df_rating_books['User-ID'].isin(best_rators)]\n",
        "user_rating=df_rating_books[df_rating_books['User-ID'].isin(best_rators)]\n",
        "user_rating.head(3)"
      ]
    },
    {
      "cell_type": "code",
      "execution_count": null,
      "metadata": {
        "id": "cW0Pb_pF4eRj"
      },
      "outputs": [],
      "source": []
    },
    {
      "cell_type": "markdown",
      "metadata": {
        "id": "YuckablK5FTK"
      },
      "source": [
        "# **Now base on the books filter **"
      ]
    },
    {
      "cell_type": "code",
      "execution_count": 27,
      "metadata": {
        "colab": {
          "base_uri": "https://localhost:8080/"
        },
        "id": "SPWFAB1w5Kjk",
        "outputId": "d6b6f695-6a0a-413a-d053-6ce761820a72"
      },
      "outputs": [
        {
          "data": {
            "text/plain": [
              "Book-Title\n",
              " A Light in the Storm: The Civil War Diary of Amelia Martin, Fenwick Island, Delaware, 1861 (Dear America)    False\n",
              " Always Have Popsicles                                                                                        False\n",
              " Apple Magic (The Collector's series)                                                                         False\n",
              " Beyond IBM: Leadership Marketing and Finance for the 1990s                                                   False\n",
              " Clifford Visita El Hospital (Clifford El Gran Perro Colorado)                                                False\n",
              "                                                                                                              ...  \n",
              "Ã?Â?ber das Fernsehen.                                                                                        False\n",
              "Ã?Â?ber die Pflicht zum Ungehorsam gegen den Staat.                                                           False\n",
              "Ã?Â?lpiraten.                                                                                                 False\n",
              "Ã?Â?stlich der Berge.                                                                                         False\n",
              "Ã?Â?thique en toc                                                                                             False\n",
              "Name: Book-Rating, Length: 152771, dtype: bool"
            ]
          },
          "execution_count": 27,
          "metadata": {},
          "output_type": "execute_result"
        }
      ],
      "source": [
        "# apply and on the  user-rating  group_by  book_title and rating top 50\n",
        "# user_rating.groupby('Book-Title').count()['Book-Rating'].reset_index()\n",
        "user_rating.groupby('Book-Title').count()['Book-Rating']>=60"
      ]
    },
    {
      "cell_type": "code",
      "execution_count": 28,
      "metadata": {
        "id": "1EBJ9ZnQ5kRl"
      },
      "outputs": [],
      "source": [
        "# this is the books  that rating top-70\n",
        "var_b=user_rating.groupby('Book-Title').count()['Book-Rating']>=60\n",
        "var_b[var_b]\n",
        "best_books= var_b[var_b].index"
      ]
    },
    {
      "cell_type": "code",
      "execution_count": 29,
      "metadata": {
        "colab": {
          "base_uri": "https://localhost:8080/",
          "height": 330
        },
        "id": "IbW6UyYf7xoe",
        "outputId": "69358a56-761c-405a-fb2b-5ab669bbe418"
      },
      "outputs": [
        {
          "data": {
            "text/html": [
              "<div>\n",
              "<style scoped>\n",
              "    .dataframe tbody tr th:only-of-type {\n",
              "        vertical-align: middle;\n",
              "    }\n",
              "\n",
              "    .dataframe tbody tr th {\n",
              "        vertical-align: top;\n",
              "    }\n",
              "\n",
              "    .dataframe thead th {\n",
              "        text-align: right;\n",
              "    }\n",
              "</style>\n",
              "<table border=\"1\" class=\"dataframe\">\n",
              "  <thead>\n",
              "    <tr style=\"text-align: right;\">\n",
              "      <th></th>\n",
              "      <th>User-ID</th>\n",
              "      <th>ISBN</th>\n",
              "      <th>Book-Rating</th>\n",
              "      <th>Book-Title</th>\n",
              "      <th>Book-Author</th>\n",
              "      <th>Year-Of-Publication</th>\n",
              "      <th>Publisher</th>\n",
              "      <th>Image-URL-S</th>\n",
              "      <th>Image-URL-M</th>\n",
              "      <th>Image-URL-L</th>\n",
              "    </tr>\n",
              "  </thead>\n",
              "  <tbody>\n",
              "    <tr>\n",
              "      <th>62</th>\n",
              "      <td>276727</td>\n",
              "      <td>0446520802</td>\n",
              "      <td>0</td>\n",
              "      <td>The Notebook</td>\n",
              "      <td>Nicholas Sparks</td>\n",
              "      <td>1996</td>\n",
              "      <td>Warner Books</td>\n",
              "      <td>http://images.amazon.com/images/P/0446520802.0...</td>\n",
              "      <td>http://images.amazon.com/images/P/0446520802.0...</td>\n",
              "      <td>http://images.amazon.com/images/P/0446520802.0...</td>\n",
              "    </tr>\n",
              "    <tr>\n",
              "      <th>63</th>\n",
              "      <td>278418</td>\n",
              "      <td>0446520802</td>\n",
              "      <td>0</td>\n",
              "      <td>The Notebook</td>\n",
              "      <td>Nicholas Sparks</td>\n",
              "      <td>1996</td>\n",
              "      <td>Warner Books</td>\n",
              "      <td>http://images.amazon.com/images/P/0446520802.0...</td>\n",
              "      <td>http://images.amazon.com/images/P/0446520802.0...</td>\n",
              "      <td>http://images.amazon.com/images/P/0446520802.0...</td>\n",
              "    </tr>\n",
              "    <tr>\n",
              "      <th>64</th>\n",
              "      <td>638</td>\n",
              "      <td>0446520802</td>\n",
              "      <td>0</td>\n",
              "      <td>The Notebook</td>\n",
              "      <td>Nicholas Sparks</td>\n",
              "      <td>1996</td>\n",
              "      <td>Warner Books</td>\n",
              "      <td>http://images.amazon.com/images/P/0446520802.0...</td>\n",
              "      <td>http://images.amazon.com/images/P/0446520802.0...</td>\n",
              "      <td>http://images.amazon.com/images/P/0446520802.0...</td>\n",
              "    </tr>\n",
              "    <tr>\n",
              "      <th>65</th>\n",
              "      <td>3363</td>\n",
              "      <td>0446520802</td>\n",
              "      <td>0</td>\n",
              "      <td>The Notebook</td>\n",
              "      <td>Nicholas Sparks</td>\n",
              "      <td>1996</td>\n",
              "      <td>Warner Books</td>\n",
              "      <td>http://images.amazon.com/images/P/0446520802.0...</td>\n",
              "      <td>http://images.amazon.com/images/P/0446520802.0...</td>\n",
              "      <td>http://images.amazon.com/images/P/0446520802.0...</td>\n",
              "    </tr>\n",
              "    <tr>\n",
              "      <th>66</th>\n",
              "      <td>7158</td>\n",
              "      <td>0446520802</td>\n",
              "      <td>10</td>\n",
              "      <td>The Notebook</td>\n",
              "      <td>Nicholas Sparks</td>\n",
              "      <td>1996</td>\n",
              "      <td>Warner Books</td>\n",
              "      <td>http://images.amazon.com/images/P/0446520802.0...</td>\n",
              "      <td>http://images.amazon.com/images/P/0446520802.0...</td>\n",
              "      <td>http://images.amazon.com/images/P/0446520802.0...</td>\n",
              "    </tr>\n",
              "  </tbody>\n",
              "</table>\n",
              "</div>"
            ],
            "text/plain": [
              "    User-ID        ISBN  Book-Rating    Book-Title      Book-Author  \\\n",
              "62   276727  0446520802            0  The Notebook  Nicholas Sparks   \n",
              "63   278418  0446520802            0  The Notebook  Nicholas Sparks   \n",
              "64      638  0446520802            0  The Notebook  Nicholas Sparks   \n",
              "65     3363  0446520802            0  The Notebook  Nicholas Sparks   \n",
              "66     7158  0446520802           10  The Notebook  Nicholas Sparks   \n",
              "\n",
              "   Year-Of-Publication     Publisher  \\\n",
              "62                1996  Warner Books   \n",
              "63                1996  Warner Books   \n",
              "64                1996  Warner Books   \n",
              "65                1996  Warner Books   \n",
              "66                1996  Warner Books   \n",
              "\n",
              "                                          Image-URL-S  \\\n",
              "62  http://images.amazon.com/images/P/0446520802.0...   \n",
              "63  http://images.amazon.com/images/P/0446520802.0...   \n",
              "64  http://images.amazon.com/images/P/0446520802.0...   \n",
              "65  http://images.amazon.com/images/P/0446520802.0...   \n",
              "66  http://images.amazon.com/images/P/0446520802.0...   \n",
              "\n",
              "                                          Image-URL-M  \\\n",
              "62  http://images.amazon.com/images/P/0446520802.0...   \n",
              "63  http://images.amazon.com/images/P/0446520802.0...   \n",
              "64  http://images.amazon.com/images/P/0446520802.0...   \n",
              "65  http://images.amazon.com/images/P/0446520802.0...   \n",
              "66  http://images.amazon.com/images/P/0446520802.0...   \n",
              "\n",
              "                                          Image-URL-L  \n",
              "62  http://images.amazon.com/images/P/0446520802.0...  \n",
              "63  http://images.amazon.com/images/P/0446520802.0...  \n",
              "64  http://images.amazon.com/images/P/0446520802.0...  \n",
              "65  http://images.amazon.com/images/P/0446520802.0...  \n",
              "66  http://images.amazon.com/images/P/0446520802.0...  "
            ]
          },
          "execution_count": 29,
          "metadata": {},
          "output_type": "execute_result"
        }
      ],
      "source": [
        "# now apply and the df_rating_books that and apply  best_books list\n",
        "# variable     =boolean_value[datasets['fileter_column'].isin (apply_formula)     ]\n",
        "final_top_books=df_rating_books[df_rating_books['Book-Title'].isin(best_books)]\n",
        "final_top_books.head()"
      ]
    },
    {
      "cell_type": "code",
      "execution_count": 30,
      "metadata": {
        "colab": {
          "base_uri": "https://localhost:8080/",
          "height": 184
        },
        "id": "aRZPpF4D9Eti",
        "outputId": "98f08668-e83a-4381-d6d3-0c565a6527ba"
      },
      "outputs": [
        {
          "data": {
            "text/html": [
              "<div>\n",
              "<style scoped>\n",
              "    .dataframe tbody tr th:only-of-type {\n",
              "        vertical-align: middle;\n",
              "    }\n",
              "\n",
              "    .dataframe tbody tr th {\n",
              "        vertical-align: top;\n",
              "    }\n",
              "\n",
              "    .dataframe thead th {\n",
              "        text-align: right;\n",
              "    }\n",
              "</style>\n",
              "<table border=\"1\" class=\"dataframe\">\n",
              "  <thead>\n",
              "    <tr style=\"text-align: right;\">\n",
              "      <th></th>\n",
              "      <th>User-ID</th>\n",
              "      <th>ISBN</th>\n",
              "      <th>Book-Rating</th>\n",
              "      <th>Book-Title</th>\n",
              "      <th>Book-Author</th>\n",
              "      <th>Year-Of-Publication</th>\n",
              "      <th>Publisher</th>\n",
              "      <th>Image-URL-S</th>\n",
              "      <th>Image-URL-M</th>\n",
              "      <th>Image-URL-L</th>\n",
              "    </tr>\n",
              "  </thead>\n",
              "  <tbody>\n",
              "    <tr>\n",
              "      <th>62</th>\n",
              "      <td>276727</td>\n",
              "      <td>0446520802</td>\n",
              "      <td>0</td>\n",
              "      <td>The Notebook</td>\n",
              "      <td>Nicholas Sparks</td>\n",
              "      <td>1996</td>\n",
              "      <td>Warner Books</td>\n",
              "      <td>http://images.amazon.com/images/P/0446520802.0...</td>\n",
              "      <td>http://images.amazon.com/images/P/0446520802.0...</td>\n",
              "      <td>http://images.amazon.com/images/P/0446520802.0...</td>\n",
              "    </tr>\n",
              "    <tr>\n",
              "      <th>63</th>\n",
              "      <td>278418</td>\n",
              "      <td>0446520802</td>\n",
              "      <td>0</td>\n",
              "      <td>The Notebook</td>\n",
              "      <td>Nicholas Sparks</td>\n",
              "      <td>1996</td>\n",
              "      <td>Warner Books</td>\n",
              "      <td>http://images.amazon.com/images/P/0446520802.0...</td>\n",
              "      <td>http://images.amazon.com/images/P/0446520802.0...</td>\n",
              "      <td>http://images.amazon.com/images/P/0446520802.0...</td>\n",
              "    </tr>\n",
              "  </tbody>\n",
              "</table>\n",
              "</div>"
            ],
            "text/plain": [
              "    User-ID        ISBN  Book-Rating    Book-Title      Book-Author  \\\n",
              "62   276727  0446520802            0  The Notebook  Nicholas Sparks   \n",
              "63   278418  0446520802            0  The Notebook  Nicholas Sparks   \n",
              "\n",
              "   Year-Of-Publication     Publisher  \\\n",
              "62                1996  Warner Books   \n",
              "63                1996  Warner Books   \n",
              "\n",
              "                                          Image-URL-S  \\\n",
              "62  http://images.amazon.com/images/P/0446520802.0...   \n",
              "63  http://images.amazon.com/images/P/0446520802.0...   \n",
              "\n",
              "                                          Image-URL-M  \\\n",
              "62  http://images.amazon.com/images/P/0446520802.0...   \n",
              "63  http://images.amazon.com/images/P/0446520802.0...   \n",
              "\n",
              "                                          Image-URL-L  \n",
              "62  http://images.amazon.com/images/P/0446520802.0...  \n",
              "63  http://images.amazon.com/images/P/0446520802.0...  "
            ]
          },
          "execution_count": 30,
          "metadata": {},
          "output_type": "execute_result"
        }
      ],
      "source": [
        "final_top_bookst=final_top_books.drop_duplicates\n",
        "final_dataset=final_top_books\n",
        "final_dataset.head(2)\n"
      ]
    },
    {
      "cell_type": "code",
      "execution_count": 31,
      "metadata": {
        "colab": {
          "base_uri": "https://localhost:8080/",
          "height": 176
        },
        "id": "veNM1a5-_y6h",
        "outputId": "9d76ef8b-b8d9-4e2a-ded5-92ec87843a4b"
      },
      "outputs": [
        {
          "data": {
            "text/html": [
              "<div>\n",
              "<style scoped>\n",
              "    .dataframe tbody tr th:only-of-type {\n",
              "        vertical-align: middle;\n",
              "    }\n",
              "\n",
              "    .dataframe tbody tr th {\n",
              "        vertical-align: top;\n",
              "    }\n",
              "\n",
              "    .dataframe thead th {\n",
              "        text-align: right;\n",
              "    }\n",
              "</style>\n",
              "<table border=\"1\" class=\"dataframe\">\n",
              "  <thead>\n",
              "    <tr style=\"text-align: right;\">\n",
              "      <th>User-ID</th>\n",
              "      <th>8</th>\n",
              "      <th>9</th>\n",
              "      <th>14</th>\n",
              "      <th>16</th>\n",
              "      <th>17</th>\n",
              "      <th>26</th>\n",
              "      <th>32</th>\n",
              "      <th>39</th>\n",
              "      <th>42</th>\n",
              "      <th>44</th>\n",
              "      <th>...</th>\n",
              "      <th>278807</th>\n",
              "      <th>278813</th>\n",
              "      <th>278824</th>\n",
              "      <th>278828</th>\n",
              "      <th>278832</th>\n",
              "      <th>278836</th>\n",
              "      <th>278843</th>\n",
              "      <th>278844</th>\n",
              "      <th>278846</th>\n",
              "      <th>278854</th>\n",
              "    </tr>\n",
              "    <tr>\n",
              "      <th>Book-Title</th>\n",
              "      <th></th>\n",
              "      <th></th>\n",
              "      <th></th>\n",
              "      <th></th>\n",
              "      <th></th>\n",
              "      <th></th>\n",
              "      <th></th>\n",
              "      <th></th>\n",
              "      <th></th>\n",
              "      <th></th>\n",
              "      <th></th>\n",
              "      <th></th>\n",
              "      <th></th>\n",
              "      <th></th>\n",
              "      <th></th>\n",
              "      <th></th>\n",
              "      <th></th>\n",
              "      <th></th>\n",
              "      <th></th>\n",
              "      <th></th>\n",
              "      <th></th>\n",
              "    </tr>\n",
              "  </thead>\n",
              "  <tbody>\n",
              "    <tr>\n",
              "      <th>\\O\\\" Is for Outlaw\"</th>\n",
              "      <td>0.0</td>\n",
              "      <td>0.0</td>\n",
              "      <td>0.0</td>\n",
              "      <td>0.0</td>\n",
              "      <td>0.0</td>\n",
              "      <td>0.0</td>\n",
              "      <td>0.0</td>\n",
              "      <td>0.0</td>\n",
              "      <td>0.0</td>\n",
              "      <td>0.0</td>\n",
              "      <td>...</td>\n",
              "      <td>0.0</td>\n",
              "      <td>0.0</td>\n",
              "      <td>0.0</td>\n",
              "      <td>0.0</td>\n",
              "      <td>0.0</td>\n",
              "      <td>0.0</td>\n",
              "      <td>0.0</td>\n",
              "      <td>0.0</td>\n",
              "      <td>0.0</td>\n",
              "      <td>0.0</td>\n",
              "    </tr>\n",
              "  </tbody>\n",
              "</table>\n",
              "<p>1 rows × 30280 columns</p>\n",
              "</div>"
            ],
            "text/plain": [
              "User-ID              8       9       14      16      17      26      32      \\\n",
              "Book-Title                                                                    \n",
              "\\O\\\" Is for Outlaw\"     0.0     0.0     0.0     0.0     0.0     0.0     0.0   \n",
              "\n",
              "User-ID              39      42      44      ...  278807  278813  278824  \\\n",
              "Book-Title                                   ...                           \n",
              "\\O\\\" Is for Outlaw\"     0.0     0.0     0.0  ...     0.0     0.0     0.0   \n",
              "\n",
              "User-ID              278828  278832  278836  278843  278844  278846  278854  \n",
              "Book-Title                                                                   \n",
              "\\O\\\" Is for Outlaw\"     0.0     0.0     0.0     0.0     0.0     0.0     0.0  \n",
              "\n",
              "[1 rows x 30280 columns]"
            ]
          },
          "execution_count": 31,
          "metadata": {},
          "output_type": "execute_result"
        }
      ],
      "source": [
        "pivot=final_dataset.pivot_table(index='Book-Title',columns='User-ID',values='Book-Rating')\n",
        "# print(pivot)\n",
        "pivot.fillna(0,inplace=True) # replacing_values\n",
        "pivot.tail(1)"
      ]
    },
    {
      "cell_type": "code",
      "execution_count": 32,
      "metadata": {
        "id": "l68uRjbbByhS"
      },
      "outputs": [],
      "source": [
        "\n",
        "\n",
        "#pickle.dump(pivot,open('final_dataset.pkl','wb'))\n",
        "\n",
        "# import joblib\n",
        "# from google.colab import files\n",
        "\n",
        "\n",
        "\n",
        "# # Save the dictionary as a pickle file\n",
        "# with open('final_dataset.pkl', 'wb') as file:\n",
        "#     joblib.dump(pivot, file)\n",
        "\n",
        "# # Download the pickle file\n",
        "# files.download('final_dataset.pkl')"
      ]
    },
    {
      "cell_type": "code",
      "execution_count": 33,
      "metadata": {},
      "outputs": [
        {
          "name": "stdout",
          "output_type": "stream",
          "text": [
            "Requirement already satisfied: scikit-learn in c:\\users\\shiva\\videos\\movies_r_s\\.venv\\lib\\site-packages (1.3.1)\n",
            "Requirement already satisfied: numpy<2.0,>=1.17.3 in c:\\users\\shiva\\videos\\movies_r_s\\.venv\\lib\\site-packages (from scikit-learn) (1.26.0)\n",
            "Requirement already satisfied: scipy>=1.5.0 in c:\\users\\shiva\\videos\\movies_r_s\\.venv\\lib\\site-packages (from scikit-learn) (1.11.3)\n",
            "Requirement already satisfied: joblib>=1.1.1 in c:\\users\\shiva\\videos\\movies_r_s\\.venv\\lib\\site-packages (from scikit-learn) (1.3.2)\n",
            "Requirement already satisfied: threadpoolctl>=2.0.0 in c:\\users\\shiva\\videos\\movies_r_s\\.venv\\lib\\site-packages (from scikit-learn) (3.2.0)\n",
            "Note: you may need to restart the kernel to use updated packages.\n"
          ]
        }
      ],
      "source": [
        " pip install scikit-learn"
      ]
    },
    {
      "cell_type": "markdown",
      "metadata": {
        "id": "xhGNxOcFCiti"
      },
      "source": [
        "# **campair to  similar matrics **"
      ]
    },
    {
      "cell_type": "code",
      "execution_count": 34,
      "metadata": {
        "id": "qXWY15ZOCtZm"
      },
      "outputs": [],
      "source": [
        "from sklearn.metrics.pairwise import cosine_similarity"
      ]
    },
    {
      "cell_type": "code",
      "execution_count": 35,
      "metadata": {
        "id": "9R29HgHoC5yD"
      },
      "outputs": [],
      "source": [
        "similatrity_score=cosine_similarity(pivot)"
      ]
    },
    {
      "cell_type": "code",
      "execution_count": 36,
      "metadata": {
        "colab": {
          "base_uri": "https://localhost:8080/"
        },
        "id": "XQM85xLgDHl7",
        "outputId": "1c5ab8cc-9d13-48d5-feef-d66a096b869f"
      },
      "outputs": [
        {
          "data": {
            "text/plain": [
              "(462, 462)"
            ]
          },
          "execution_count": 36,
          "metadata": {},
          "output_type": "execute_result"
        }
      ],
      "source": [
        "similatrity_score.shape"
      ]
    },
    {
      "cell_type": "code",
      "execution_count": 37,
      "metadata": {
        "id": "RF_bGkk2DU4n"
      },
      "outputs": [],
      "source": [
        "# use inbuilting function for recommondation\n",
        "def recommend(book_name):\n",
        "  # finding indexing of this books\n",
        "  index=np.where(pivot.index==book_name)[0][0]\n",
        "  similar_item=sorted(list(enumerate(similatrity_score[index])),key=lambda x:x[1],reverse=True)[1:5]\n",
        "\n",
        "  for i in similar_item:\n",
        "    print(pivot.index[i[0]])\n"
      ]
    },
    {
      "cell_type": "code",
      "execution_count": 38,
      "metadata": {
        "id": "EzbP6cQL1T4b"
      },
      "outputs": [],
      "source": [
        "# use inbuilting function for recommondation\n",
        "def recommend(book_name):\n",
        "  # finding indexing of this books\n",
        "  index=np.where(pivot.index==book_name)[0][0]\n",
        "  similar_item=sorted(list(enumerate(similatrity_score[index])),key=lambda x:x[1],reverse=True)[1:5]\n",
        "\n",
        "  data=[]\n",
        "  for i in similar_item:\n",
        "    items=[]\n",
        "    # print(pivot.index[i[0]])\n",
        "    temp_var=df_books[df_books['Book-Title']==pivot.index[i[0]]]\n",
        "    items.extend(list(temp_var.drop_duplicates('Book-Title')['Book-Title'].values))\n",
        "    items.extend(list(temp_var.drop_duplicates('Book-Title')['Book-Author'].values))\n",
        "    items.extend(list(temp_var.drop_duplicates('Book-Title')['Image-URL-M'].values))\n",
        "    # items.extend(list(temp_var.drop_duplicates('Book-Title')['Book-Rating'].values))\n",
        "\n",
        "    data.append(items)\n",
        "  return data\n",
        "\n",
        "\n"
      ]
    },
    {
      "cell_type": "code",
      "execution_count": 40,
      "metadata": {
        "id": "09lRGc4c4pcO"
      },
      "outputs": [
        {
          "data": {
            "text/plain": [
              "['sim_score.pkl']"
            ]
          },
          "execution_count": 40,
          "metadata": {},
          "output_type": "execute_result"
        }
      ],
      "source": [
        "# exporting file for flask\n",
        "import joblib\n",
        "\n",
        "# Save df_books using joblib with compression\n",
        "joblib.dump(df_books, 'book_dataset.pkl', compress=('gzip', 3))\n",
        "\n",
        "# Save pivot using joblib with compression\n",
        "joblib.dump(pivot, 'final_dataset.pkl', compress=('gzip', 3))\n",
        "\n",
        "# Save similarity_score using joblib with compression\n",
        "joblib.dump(similatrity_score, 'sim_score.pkl', compress=('gzip', 3))\n"
      ]
    },
    {
      "cell_type": "code",
      "execution_count": 111,
      "metadata": {
        "id": "4ofgeVc2_BGE"
      },
      "outputs": [],
      "source": [
        "# import pickle\n",
        "# from google.colab import files\n",
        "\n",
        "\n",
        "\n",
        "# # Save the dictionary as a pickle file\n",
        "# with open('final_dataset.pkl', 'wb') as file:\n",
        "#     pickle.dump(pivot, file)\n",
        "\n",
        "# # Download the pickle file\n",
        "# files.download('final_dataset.pkl')"
      ]
    },
    {
      "cell_type": "code",
      "execution_count": 112,
      "metadata": {
        "colab": {
          "base_uri": "https://localhost:8080/"
        },
        "id": "uo3iNkINMNlR",
        "outputId": "86c26b75-cefa-4329-aa6a-df91b1c12888"
      },
      "outputs": [
        {
          "data": {
            "text/plain": [
              "[['The Notebook',\n",
              "  'Nicholas Sparks',\n",
              "  'http://images.amazon.com/images/P/0446605239.01.MZZZZZZZ.jpg'],\n",
              " ['The Rescue',\n",
              "  'Nicholas Sparks',\n",
              "  'http://images.amazon.com/images/P/0446610399.01.MZZZZZZZ.jpg'],\n",
              " ['A Walk to Remember',\n",
              "  'Nicholas Sparks',\n",
              "  'http://images.amazon.com/images/P/0446608955.01.MZZZZZZZ.jpg'],\n",
              " ['The Guardian',\n",
              "  'Nicholas Sparks',\n",
              "  'http://images.amazon.com/images/P/0446527793.01.MZZZZZZZ.jpg']]"
            ]
          },
          "execution_count": 112,
          "metadata": {},
          "output_type": "execute_result"
        }
      ],
      "source": [
        "# recommend('1984')\n",
        "# recommend('2nd Chance')\n",
        "# recommend('What Looks Like Crazy On An Ordinary Day')\n",
        "\n",
        "recommend('Message in a Bottle')\n"
      ]
    },
    {
      "cell_type": "code",
      "execution_count": 113,
      "metadata": {
        "colab": {
          "base_uri": "https://localhost:8080/"
        },
        "id": "Ixk6yHEWI338",
        "outputId": "db77dc62-60dc-4a9a-e6da-c8feac9384e8"
      },
      "outputs": [
        {
          "data": {
            "text/plain": [
              "2"
            ]
          },
          "execution_count": 113,
          "metadata": {},
          "output_type": "execute_result"
        }
      ],
      "source": [
        "# finding index of books using  book name\n",
        "#  np.where(pivot.index=='1984')\n",
        "np.where(pivot.index=='2nd Chance')[0][0]"
      ]
    },
    {
      "cell_type": "code",
      "execution_count": 114,
      "metadata": {
        "colab": {
          "base_uri": "https://localhost:8080/"
        },
        "id": "0TGQnLbCJFZ5",
        "outputId": "0fbd9d9d-2eef-4948-fcfc-a79b2c07e132"
      },
      "outputs": [
        {
          "data": {
            "text/plain": [
              "[(32, 0.15013251226398516),\n",
              " (53, 0.12263045089546497),\n",
              " (193, 0.0837794942511643),\n",
              " (412, 0.08170469020112277)]"
            ]
          },
          "execution_count": 114,
          "metadata": {},
          "output_type": "execute_result"
        }
      ],
      "source": [
        "# list(enumerate(similatrity_score[0]))\n",
        "# sorting indexing\n",
        "# sort_fun(formula of similarity),key=lambda_func sorting_based_on_2nd_col,descending)[sencond to fourth_index_show]\n",
        "sorted(list(enumerate(similatrity_score[0])),key=lambda x:x[1],reverse=True)[1:5]\n"
      ]
    },
    {
      "cell_type": "code",
      "execution_count": 115,
      "metadata": {
        "colab": {
          "base_uri": "https://localhost:8080/"
        },
        "id": "X-CEJFWiKHdE",
        "outputId": "8a0a8ec1-0dc8-4d7d-8b0d-2be68b5fe4ff"
      },
      "outputs": [],
      "source": [
        "# import joblib\n",
        "\n",
        "# # data = [...]  # Your data here\n",
        "\n",
        "# # data='final_dataset.pkl'\n",
        "# # joblib.dump(data, 'final_dataset0.pkl')\n",
        "# # data='book_dataset.pkl'\n",
        "# # joblib.dump(data, 'book_dataset0.pkl')\n",
        "# data='topbooks(60).pkl'\n",
        "# joblib.dump(data, 'topbooks(60)0.pkl')"
      ]
    },
    {
      "cell_type": "code",
      "execution_count": null,
      "metadata": {
        "id": "AZRzY6topGbe"
      },
      "outputs": [],
      "source": []
    },
    {
      "cell_type": "code",
      "execution_count": null,
      "metadata": {
        "id": "pFf46j6dpTxc"
      },
      "outputs": [],
      "source": []
    }
  ],
  "metadata": {
    "colab": {
      "provenance": []
    },
    "kernelspec": {
      "display_name": "Python 3",
      "name": "python3"
    },
    "language_info": {
      "codemirror_mode": {
        "name": "ipython",
        "version": 3
      },
      "file_extension": ".py",
      "mimetype": "text/x-python",
      "name": "python",
      "nbconvert_exporter": "python",
      "pygments_lexer": "ipython3",
      "version": "3.10.5"
    }
  },
  "nbformat": 4,
  "nbformat_minor": 0
}
